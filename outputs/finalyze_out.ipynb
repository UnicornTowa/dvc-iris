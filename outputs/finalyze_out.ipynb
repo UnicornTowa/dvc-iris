{
 "cells": [
  {
   "cell_type": "code",
   "execution_count": 1,
   "id": "bf330a76",
   "metadata": {
    "execution": {
     "iopub.execute_input": "2023-12-14T00:48:33.367316Z",
     "iopub.status.busy": "2023-12-14T00:48:33.366807Z",
     "iopub.status.idle": "2023-12-14T00:48:34.163711Z",
     "shell.execute_reply": "2023-12-14T00:48:34.162700Z"
    },
    "papermill": {
     "duration": 0.803903,
     "end_time": "2023-12-14T00:48:34.165709",
     "exception": false,
     "start_time": "2023-12-14T00:48:33.361806",
     "status": "completed"
    },
    "tags": []
   },
   "outputs": [],
   "source": [
    "import yaml\n",
    "import pandas as pd\n",
    "import numpy as np"
   ]
  },
  {
   "cell_type": "code",
   "execution_count": 2,
   "id": "fd7edf7d",
   "metadata": {
    "execution": {
     "iopub.execute_input": "2023-12-14T00:48:34.175227Z",
     "iopub.status.busy": "2023-12-14T00:48:34.174226Z",
     "iopub.status.idle": "2023-12-14T00:48:34.196230Z",
     "shell.execute_reply": "2023-12-14T00:48:34.194221Z"
    },
    "papermill": {
     "duration": 0.029006,
     "end_time": "2023-12-14T00:48:34.198231",
     "exception": false,
     "start_time": "2023-12-14T00:48:34.169225",
     "status": "completed"
    },
    "tags": []
   },
   "outputs": [
    {
     "data": {
      "text/html": [
       "<div>\n",
       "<style scoped>\n",
       "    .dataframe tbody tr th:only-of-type {\n",
       "        vertical-align: middle;\n",
       "    }\n",
       "\n",
       "    .dataframe tbody tr th {\n",
       "        vertical-align: top;\n",
       "    }\n",
       "\n",
       "    .dataframe thead th {\n",
       "        text-align: right;\n",
       "    }\n",
       "</style>\n",
       "<table border=\"1\" class=\"dataframe\">\n",
       "  <thead>\n",
       "    <tr style=\"text-align: right;\">\n",
       "      <th></th>\n",
       "      <th>accuracy cb</th>\n",
       "      <th>f1 cb</th>\n",
       "      <th>precision cb</th>\n",
       "      <th>recall cb</th>\n",
       "    </tr>\n",
       "  </thead>\n",
       "  <tbody>\n",
       "    <tr>\n",
       "      <th>0</th>\n",
       "      <td>0.7</td>\n",
       "      <td>0.7</td>\n",
       "      <td>0.7</td>\n",
       "      <td>0.7</td>\n",
       "    </tr>\n",
       "  </tbody>\n",
       "</table>\n",
       "</div>"
      ],
      "text/plain": [
       "   accuracy cb  f1 cb  precision cb  recall cb\n",
       "0          0.7    0.7           0.7        0.7"
      ]
     },
     "execution_count": 2,
     "metadata": {},
     "output_type": "execute_result"
    }
   ],
   "source": [
    "# Load YAML data from a file\n",
    "with open('outputs/metrics_cb.yaml', 'r') as file:\n",
    "    yaml_data = yaml.safe_load(file)\n",
    "\n",
    "# Convert YAML data to DataFrame\n",
    "metrics_cb = pd.json_normalize(yaml_data)\n",
    "metrics_cb"
   ]
  },
  {
   "cell_type": "code",
   "execution_count": 3,
   "id": "29b75301",
   "metadata": {
    "execution": {
     "iopub.execute_input": "2023-12-14T00:48:34.207231Z",
     "iopub.status.busy": "2023-12-14T00:48:34.206230Z",
     "iopub.status.idle": "2023-12-14T00:48:34.220094Z",
     "shell.execute_reply": "2023-12-14T00:48:34.219086Z"
    },
    "papermill": {
     "duration": 0.020867,
     "end_time": "2023-12-14T00:48:34.222097",
     "exception": false,
     "start_time": "2023-12-14T00:48:34.201230",
     "status": "completed"
    },
    "tags": []
   },
   "outputs": [
    {
     "data": {
      "text/html": [
       "<div>\n",
       "<style scoped>\n",
       "    .dataframe tbody tr th:only-of-type {\n",
       "        vertical-align: middle;\n",
       "    }\n",
       "\n",
       "    .dataframe tbody tr th {\n",
       "        vertical-align: top;\n",
       "    }\n",
       "\n",
       "    .dataframe thead th {\n",
       "        text-align: right;\n",
       "    }\n",
       "</style>\n",
       "<table border=\"1\" class=\"dataframe\">\n",
       "  <thead>\n",
       "    <tr style=\"text-align: right;\">\n",
       "      <th></th>\n",
       "      <th>accuracy cb</th>\n",
       "      <th>precision cb</th>\n",
       "      <th>recall cb</th>\n",
       "      <th>f1 cb</th>\n",
       "    </tr>\n",
       "  </thead>\n",
       "  <tbody>\n",
       "    <tr>\n",
       "      <th>0</th>\n",
       "      <td>0.7</td>\n",
       "      <td>0.7</td>\n",
       "      <td>0.7</td>\n",
       "      <td>0.7</td>\n",
       "    </tr>\n",
       "  </tbody>\n",
       "</table>\n",
       "</div>"
      ],
      "text/plain": [
       "   accuracy cb  precision cb  recall cb  f1 cb\n",
       "0          0.7           0.7        0.7    0.7"
      ]
     },
     "execution_count": 3,
     "metadata": {},
     "output_type": "execute_result"
    }
   ],
   "source": [
    "metrics_cb = metrics_cb[['accuracy cb', 'precision cb', 'recall cb', 'f1 cb']]\n",
    "metrics_cb"
   ]
  },
  {
   "cell_type": "code",
   "execution_count": 4,
   "id": "bd12dd81",
   "metadata": {
    "execution": {
     "iopub.execute_input": "2023-12-14T00:48:34.232095Z",
     "iopub.status.busy": "2023-12-14T00:48:34.232095Z",
     "iopub.status.idle": "2023-12-14T00:48:34.246547Z",
     "shell.execute_reply": "2023-12-14T00:48:34.245538Z"
    },
    "papermill": {
     "duration": 0.022451,
     "end_time": "2023-12-14T00:48:34.248547",
     "exception": false,
     "start_time": "2023-12-14T00:48:34.226096",
     "status": "completed"
    },
    "tags": []
   },
   "outputs": [
    {
     "data": {
      "text/html": [
       "<div>\n",
       "<style scoped>\n",
       "    .dataframe tbody tr th:only-of-type {\n",
       "        vertical-align: middle;\n",
       "    }\n",
       "\n",
       "    .dataframe tbody tr th {\n",
       "        vertical-align: top;\n",
       "    }\n",
       "\n",
       "    .dataframe thead th {\n",
       "        text-align: right;\n",
       "    }\n",
       "</style>\n",
       "<table border=\"1\" class=\"dataframe\">\n",
       "  <thead>\n",
       "    <tr style=\"text-align: right;\">\n",
       "      <th></th>\n",
       "      <th>accuracy lr</th>\n",
       "      <th>f1 lr</th>\n",
       "      <th>precision lr</th>\n",
       "      <th>recall lr</th>\n",
       "    </tr>\n",
       "  </thead>\n",
       "  <tbody>\n",
       "    <tr>\n",
       "      <th>0</th>\n",
       "      <td>0.707143</td>\n",
       "      <td>0.707143</td>\n",
       "      <td>0.707143</td>\n",
       "      <td>0.707143</td>\n",
       "    </tr>\n",
       "  </tbody>\n",
       "</table>\n",
       "</div>"
      ],
      "text/plain": [
       "   accuracy lr     f1 lr  precision lr  recall lr\n",
       "0     0.707143  0.707143      0.707143   0.707143"
      ]
     },
     "execution_count": 4,
     "metadata": {},
     "output_type": "execute_result"
    }
   ],
   "source": [
    "with open('outputs/metrics_lr.yaml', 'r') as file:\n",
    "    yaml_data = yaml.safe_load(file)\n",
    "\n",
    "# Convert YAML data to DataFrame\n",
    "metrics_lr = pd.json_normalize(yaml_data)\n",
    "metrics_lr"
   ]
  },
  {
   "cell_type": "code",
   "execution_count": 5,
   "id": "a503877d",
   "metadata": {
    "execution": {
     "iopub.execute_input": "2023-12-14T00:48:34.259558Z",
     "iopub.status.busy": "2023-12-14T00:48:34.258558Z",
     "iopub.status.idle": "2023-12-14T00:48:34.271291Z",
     "shell.execute_reply": "2023-12-14T00:48:34.270282Z"
    },
    "papermill": {
     "duration": 0.020737,
     "end_time": "2023-12-14T00:48:34.273294",
     "exception": false,
     "start_time": "2023-12-14T00:48:34.252557",
     "status": "completed"
    },
    "tags": []
   },
   "outputs": [
    {
     "data": {
      "text/html": [
       "<div>\n",
       "<style scoped>\n",
       "    .dataframe tbody tr th:only-of-type {\n",
       "        vertical-align: middle;\n",
       "    }\n",
       "\n",
       "    .dataframe tbody tr th {\n",
       "        vertical-align: top;\n",
       "    }\n",
       "\n",
       "    .dataframe thead th {\n",
       "        text-align: right;\n",
       "    }\n",
       "</style>\n",
       "<table border=\"1\" class=\"dataframe\">\n",
       "  <thead>\n",
       "    <tr style=\"text-align: right;\">\n",
       "      <th></th>\n",
       "      <th>accuracy lr</th>\n",
       "      <th>precision lr</th>\n",
       "      <th>recall lr</th>\n",
       "      <th>f1 lr</th>\n",
       "    </tr>\n",
       "  </thead>\n",
       "  <tbody>\n",
       "    <tr>\n",
       "      <th>0</th>\n",
       "      <td>0.707143</td>\n",
       "      <td>0.707143</td>\n",
       "      <td>0.707143</td>\n",
       "      <td>0.707143</td>\n",
       "    </tr>\n",
       "  </tbody>\n",
       "</table>\n",
       "</div>"
      ],
      "text/plain": [
       "   accuracy lr  precision lr  recall lr     f1 lr\n",
       "0     0.707143      0.707143   0.707143  0.707143"
      ]
     },
     "execution_count": 5,
     "metadata": {},
     "output_type": "execute_result"
    }
   ],
   "source": [
    "metrics_lr = metrics_lr[['accuracy lr', 'precision lr', 'recall lr', 'f1 lr']]\n",
    "metrics_lr"
   ]
  },
  {
   "cell_type": "code",
   "execution_count": 6,
   "id": "70d4fc09",
   "metadata": {
    "execution": {
     "iopub.execute_input": "2023-12-14T00:48:34.283290Z",
     "iopub.status.busy": "2023-12-14T00:48:34.283290Z",
     "iopub.status.idle": "2023-12-14T00:48:34.291318Z",
     "shell.execute_reply": "2023-12-14T00:48:34.290306Z"
    },
    "papermill": {
     "duration": 0.016027,
     "end_time": "2023-12-14T00:48:34.293317",
     "exception": false,
     "start_time": "2023-12-14T00:48:34.277290",
     "status": "completed"
    },
    "tags": []
   },
   "outputs": [
    {
     "data": {
      "text/plain": [
       "['CatBoost', 0.7, 0.7, 0.7, 0.7]"
      ]
     },
     "execution_count": 6,
     "metadata": {},
     "output_type": "execute_result"
    }
   ],
   "source": [
    "['CatBoost', metrics_cb['accuracy cb'][0], metrics_cb['precision cb'][0], metrics_cb['recall cb'][0], metrics_cb['f1 cb'][0]]"
   ]
  },
  {
   "cell_type": "code",
   "execution_count": 7,
   "id": "7c79acf1",
   "metadata": {
    "execution": {
     "iopub.execute_input": "2023-12-14T00:48:34.304317Z",
     "iopub.status.busy": "2023-12-14T00:48:34.303316Z",
     "iopub.status.idle": "2023-12-14T00:48:34.321370Z",
     "shell.execute_reply": "2023-12-14T00:48:34.320362Z"
    },
    "papermill": {
     "duration": 0.026058,
     "end_time": "2023-12-14T00:48:34.323373",
     "exception": false,
     "start_time": "2023-12-14T00:48:34.297315",
     "status": "completed"
    },
    "tags": []
   },
   "outputs": [
    {
     "data": {
      "text/html": [
       "<div>\n",
       "<style scoped>\n",
       "    .dataframe tbody tr th:only-of-type {\n",
       "        vertical-align: middle;\n",
       "    }\n",
       "\n",
       "    .dataframe tbody tr th {\n",
       "        vertical-align: top;\n",
       "    }\n",
       "\n",
       "    .dataframe thead th {\n",
       "        text-align: right;\n",
       "    }\n",
       "</style>\n",
       "<table border=\"1\" class=\"dataframe\">\n",
       "  <thead>\n",
       "    <tr style=\"text-align: right;\">\n",
       "      <th></th>\n",
       "      <th>Model</th>\n",
       "      <th>Accuracy</th>\n",
       "      <th>Precision</th>\n",
       "      <th>Recall</th>\n",
       "      <th>F1</th>\n",
       "    </tr>\n",
       "  </thead>\n",
       "  <tbody>\n",
       "    <tr>\n",
       "      <th>0</th>\n",
       "      <td>CatBoost</td>\n",
       "      <td>0.700000</td>\n",
       "      <td>0.700000</td>\n",
       "      <td>0.700000</td>\n",
       "      <td>0.700000</td>\n",
       "    </tr>\n",
       "    <tr>\n",
       "      <th>1</th>\n",
       "      <td>Logistic Regression</td>\n",
       "      <td>0.707143</td>\n",
       "      <td>0.707143</td>\n",
       "      <td>0.707143</td>\n",
       "      <td>0.707143</td>\n",
       "    </tr>\n",
       "  </tbody>\n",
       "</table>\n",
       "</div>"
      ],
      "text/plain": [
       "                 Model  Accuracy  Precision    Recall        F1\n",
       "0             CatBoost  0.700000   0.700000  0.700000  0.700000\n",
       "1  Logistic Regression  0.707143   0.707143  0.707143  0.707143"
      ]
     },
     "execution_count": 7,
     "metadata": {},
     "output_type": "execute_result"
    }
   ],
   "source": [
    "metrics = pd.DataFrame(columns=['Model', 'Accuracy', 'Precision', 'Recall', 'F1'])\n",
    "metrics.loc[0] = ['CatBoost', metrics_cb['accuracy cb'][0], metrics_cb['precision cb'][0], metrics_cb['recall cb'][0], metrics_cb['f1 cb'][0]]\n",
    "metrics.loc[1] = ['Logistic Regression', metrics_lr['accuracy lr'][0], metrics_lr['precision lr'][0], metrics_lr['recall lr'][0], metrics_lr['f1 lr'][0]]\n",
    "metrics"
   ]
  },
  {
   "cell_type": "code",
   "execution_count": 8,
   "id": "75397de8",
   "metadata": {
    "execution": {
     "iopub.execute_input": "2023-12-14T00:48:34.334373Z",
     "iopub.status.busy": "2023-12-14T00:48:34.333375Z",
     "iopub.status.idle": "2023-12-14T00:48:34.348596Z",
     "shell.execute_reply": "2023-12-14T00:48:34.347583Z"
    },
    "papermill": {
     "duration": 0.023221,
     "end_time": "2023-12-14T00:48:34.350592",
     "exception": false,
     "start_time": "2023-12-14T00:48:34.327371",
     "status": "completed"
    },
    "tags": []
   },
   "outputs": [],
   "source": [
    "metrics.to_csv('outputs/result.csv')"
   ]
  },
  {
   "cell_type": "code",
   "execution_count": 9,
   "id": "30334354",
   "metadata": {
    "execution": {
     "iopub.execute_input": "2023-12-14T00:48:34.361600Z",
     "iopub.status.busy": "2023-12-14T00:48:34.361600Z",
     "iopub.status.idle": "2023-12-14T00:48:34.375691Z",
     "shell.execute_reply": "2023-12-14T00:48:34.374682Z"
    },
    "papermill": {
     "duration": 0.022084,
     "end_time": "2023-12-14T00:48:34.377696",
     "exception": false,
     "start_time": "2023-12-14T00:48:34.355612",
     "status": "completed"
    },
    "tags": []
   },
   "outputs": [],
   "source": [
    "for x in ['Accuracy', 'Precision', 'Recall', 'F1']:\n",
    "    metrics[['Model', x]].to_csv(f'outputs/{x}.csv')"
   ]
  },
  {
   "cell_type": "code",
   "execution_count": null,
   "id": "6810bd9b",
   "metadata": {
    "papermill": {
     "duration": 0.004003,
     "end_time": "2023-12-14T00:48:34.386694",
     "exception": false,
     "start_time": "2023-12-14T00:48:34.382691",
     "status": "completed"
    },
    "tags": []
   },
   "outputs": [],
   "source": []
  }
 ],
 "metadata": {
  "kernelspec": {
   "display_name": "Python 3",
   "language": "python",
   "name": "python3"
  },
  "language_info": {
   "codemirror_mode": {
    "name": "ipython",
    "version": 3
   },
   "file_extension": ".py",
   "mimetype": "text/x-python",
   "name": "python",
   "nbconvert_exporter": "python",
   "pygments_lexer": "ipython3",
   "version": "3.11.5"
  },
  "papermill": {
   "default_parameters": {},
   "duration": 4.965043,
   "end_time": "2023-12-14T00:48:34.748694",
   "environment_variables": {},
   "exception": null,
   "input_path": "finalyze.ipynb",
   "output_path": "outputs/finalyze_out.ipynb",
   "parameters": {},
   "start_time": "2023-12-14T00:48:29.783651",
   "version": "2.5.0"
  }
 },
 "nbformat": 4,
 "nbformat_minor": 5
}