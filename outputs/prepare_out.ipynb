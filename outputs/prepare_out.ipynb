{
 "cells": [
  {
   "cell_type": "code",
   "execution_count": 1,
   "id": "initial_id",
   "metadata": {
    "ExecuteTime": {
     "end_time": "2023-12-13T18:54:49.750777600Z",
     "start_time": "2023-12-13T18:54:47.326137Z"
    },
    "collapsed": true,
    "execution": {
     "iopub.execute_input": "2023-12-14T00:48:00.952866Z",
     "iopub.status.busy": "2023-12-14T00:48:00.951865Z",
     "iopub.status.idle": "2023-12-14T00:48:03.508346Z",
     "shell.execute_reply": "2023-12-14T00:48:03.507329Z"
    },
    "papermill": {
     "duration": 2.563485,
     "end_time": "2023-12-14T00:48:03.510342",
     "exception": false,
     "start_time": "2023-12-14T00:48:00.946857",
     "status": "completed"
    },
    "tags": []
   },
   "outputs": [],
   "source": [
    "import numpy as np\n",
    "import pandas as pd\n",
    "import matplotlib.pyplot as plt\n",
    "from sklearn import datasets"
   ]
  },
  {
   "cell_type": "code",
   "execution_count": 2,
   "id": "bafb923d32e67efd",
   "metadata": {
    "ExecuteTime": {
     "end_time": "2023-12-13T18:56:56.716474Z",
     "start_time": "2023-12-13T18:56:56.704861Z"
    },
    "collapsed": false,
    "execution": {
     "iopub.execute_input": "2023-12-14T00:48:03.518600Z",
     "iopub.status.busy": "2023-12-14T00:48:03.517604Z",
     "iopub.status.idle": "2023-12-14T00:48:03.532237Z",
     "shell.execute_reply": "2023-12-14T00:48:03.531217Z"
    },
    "papermill": {
     "duration": 0.019639,
     "end_time": "2023-12-14T00:48:03.534233",
     "exception": false,
     "start_time": "2023-12-14T00:48:03.514594",
     "status": "completed"
    },
    "tags": []
   },
   "outputs": [],
   "source": [
    "iris = datasets.load_iris()\n",
    "\n",
    "df = pd.DataFrame(iris.data, columns=iris.feature_names)\n",
    "df['target'] = iris.target_names[iris.target]"
   ]
  },
  {
   "cell_type": "code",
   "execution_count": 3,
   "id": "3dc525a90fdea90b",
   "metadata": {
    "ExecuteTime": {
     "end_time": "2023-12-13T18:57:12.172829Z",
     "start_time": "2023-12-13T18:57:12.134629100Z"
    },
    "collapsed": false,
    "execution": {
     "iopub.execute_input": "2023-12-14T00:48:03.540927Z",
     "iopub.status.busy": "2023-12-14T00:48:03.540927Z",
     "iopub.status.idle": "2023-12-14T00:48:03.550485Z",
     "shell.execute_reply": "2023-12-14T00:48:03.549469Z"
    },
    "papermill": {
     "duration": 0.01499,
     "end_time": "2023-12-14T00:48:03.551920",
     "exception": false,
     "start_time": "2023-12-14T00:48:03.536930",
     "status": "completed"
    },
    "tags": []
   },
   "outputs": [
    {
     "data": {
      "text/plain": [
       "['sepal length (cm)',\n",
       " 'sepal width (cm)',\n",
       " 'petal length (cm)',\n",
       " 'petal width (cm)',\n",
       " 'target']"
      ]
     },
     "execution_count": 3,
     "metadata": {},
     "output_type": "execute_result"
    }
   ],
   "source": [
    "list(df.columns)"
   ]
  },
  {
   "cell_type": "code",
   "execution_count": 4,
   "id": "ee69837f8f2d5cb4",
   "metadata": {
    "ExecuteTime": {
     "end_time": "2023-12-13T18:57:47.147396800Z",
     "start_time": "2023-12-13T18:57:47.119469300Z"
    },
    "collapsed": false,
    "execution": {
     "iopub.execute_input": "2023-12-14T00:48:03.559747Z",
     "iopub.status.busy": "2023-12-14T00:48:03.559747Z",
     "iopub.status.idle": "2023-12-14T00:48:03.580671Z",
     "shell.execute_reply": "2023-12-14T00:48:03.579663Z"
    },
    "papermill": {
     "duration": 0.026925,
     "end_time": "2023-12-14T00:48:03.581671",
     "exception": false,
     "start_time": "2023-12-14T00:48:03.554746",
     "status": "completed"
    },
    "tags": []
   },
   "outputs": [
    {
     "data": {
      "text/html": [
       "<div>\n",
       "<style scoped>\n",
       "    .dataframe tbody tr th:only-of-type {\n",
       "        vertical-align: middle;\n",
       "    }\n",
       "\n",
       "    .dataframe tbody tr th {\n",
       "        vertical-align: top;\n",
       "    }\n",
       "\n",
       "    .dataframe thead th {\n",
       "        text-align: right;\n",
       "    }\n",
       "</style>\n",
       "<table border=\"1\" class=\"dataframe\">\n",
       "  <thead>\n",
       "    <tr style=\"text-align: right;\">\n",
       "      <th></th>\n",
       "      <th>target</th>\n",
       "      <th>sepal length (cm)</th>\n",
       "      <th>sepal width (cm)</th>\n",
       "      <th>petal length (cm)</th>\n",
       "      <th>petal width (cm)</th>\n",
       "    </tr>\n",
       "  </thead>\n",
       "  <tbody>\n",
       "    <tr>\n",
       "      <th>0</th>\n",
       "      <td>setosa</td>\n",
       "      <td>5.1</td>\n",
       "      <td>3.5</td>\n",
       "      <td>1.4</td>\n",
       "      <td>0.2</td>\n",
       "    </tr>\n",
       "    <tr>\n",
       "      <th>1</th>\n",
       "      <td>setosa</td>\n",
       "      <td>4.9</td>\n",
       "      <td>3.0</td>\n",
       "      <td>1.4</td>\n",
       "      <td>0.2</td>\n",
       "    </tr>\n",
       "    <tr>\n",
       "      <th>2</th>\n",
       "      <td>setosa</td>\n",
       "      <td>4.7</td>\n",
       "      <td>3.2</td>\n",
       "      <td>1.3</td>\n",
       "      <td>0.2</td>\n",
       "    </tr>\n",
       "    <tr>\n",
       "      <th>3</th>\n",
       "      <td>setosa</td>\n",
       "      <td>4.6</td>\n",
       "      <td>3.1</td>\n",
       "      <td>1.5</td>\n",
       "      <td>0.2</td>\n",
       "    </tr>\n",
       "    <tr>\n",
       "      <th>4</th>\n",
       "      <td>setosa</td>\n",
       "      <td>5.0</td>\n",
       "      <td>3.6</td>\n",
       "      <td>1.4</td>\n",
       "      <td>0.2</td>\n",
       "    </tr>\n",
       "    <tr>\n",
       "      <th>...</th>\n",
       "      <td>...</td>\n",
       "      <td>...</td>\n",
       "      <td>...</td>\n",
       "      <td>...</td>\n",
       "      <td>...</td>\n",
       "    </tr>\n",
       "    <tr>\n",
       "      <th>145</th>\n",
       "      <td>virginica</td>\n",
       "      <td>6.7</td>\n",
       "      <td>3.0</td>\n",
       "      <td>5.2</td>\n",
       "      <td>2.3</td>\n",
       "    </tr>\n",
       "    <tr>\n",
       "      <th>146</th>\n",
       "      <td>virginica</td>\n",
       "      <td>6.3</td>\n",
       "      <td>2.5</td>\n",
       "      <td>5.0</td>\n",
       "      <td>1.9</td>\n",
       "    </tr>\n",
       "    <tr>\n",
       "      <th>147</th>\n",
       "      <td>virginica</td>\n",
       "      <td>6.5</td>\n",
       "      <td>3.0</td>\n",
       "      <td>5.2</td>\n",
       "      <td>2.0</td>\n",
       "    </tr>\n",
       "    <tr>\n",
       "      <th>148</th>\n",
       "      <td>virginica</td>\n",
       "      <td>6.2</td>\n",
       "      <td>3.4</td>\n",
       "      <td>5.4</td>\n",
       "      <td>2.3</td>\n",
       "    </tr>\n",
       "    <tr>\n",
       "      <th>149</th>\n",
       "      <td>virginica</td>\n",
       "      <td>5.9</td>\n",
       "      <td>3.0</td>\n",
       "      <td>5.1</td>\n",
       "      <td>1.8</td>\n",
       "    </tr>\n",
       "  </tbody>\n",
       "</table>\n",
       "<p>150 rows × 5 columns</p>\n",
       "</div>"
      ],
      "text/plain": [
       "        target  sepal length (cm)  sepal width (cm)  petal length (cm)  \\\n",
       "0       setosa                5.1               3.5                1.4   \n",
       "1       setosa                4.9               3.0                1.4   \n",
       "2       setosa                4.7               3.2                1.3   \n",
       "3       setosa                4.6               3.1                1.5   \n",
       "4       setosa                5.0               3.6                1.4   \n",
       "..         ...                ...               ...                ...   \n",
       "145  virginica                6.7               3.0                5.2   \n",
       "146  virginica                6.3               2.5                5.0   \n",
       "147  virginica                6.5               3.0                5.2   \n",
       "148  virginica                6.2               3.4                5.4   \n",
       "149  virginica                5.9               3.0                5.1   \n",
       "\n",
       "     petal width (cm)  \n",
       "0                 0.2  \n",
       "1                 0.2  \n",
       "2                 0.2  \n",
       "3                 0.2  \n",
       "4                 0.2  \n",
       "..                ...  \n",
       "145               2.3  \n",
       "146               1.9  \n",
       "147               2.0  \n",
       "148               2.3  \n",
       "149               1.8  \n",
       "\n",
       "[150 rows x 5 columns]"
      ]
     },
     "execution_count": 4,
     "metadata": {},
     "output_type": "execute_result"
    }
   ],
   "source": [
    "df = df[['target', 'sepal length (cm)', 'sepal width (cm)', 'petal length (cm)', 'petal width (cm)']]\n",
    "df"
   ]
  },
  {
   "cell_type": "code",
   "execution_count": 5,
   "id": "ef3939c764908174",
   "metadata": {
    "ExecuteTime": {
     "end_time": "2023-12-13T18:58:38.180686700Z",
     "start_time": "2023-12-13T18:58:38.147450300Z"
    },
    "collapsed": false,
    "execution": {
     "iopub.execute_input": "2023-12-14T00:48:03.590075Z",
     "iopub.status.busy": "2023-12-14T00:48:03.590075Z",
     "iopub.status.idle": "2023-12-14T00:48:03.603505Z",
     "shell.execute_reply": "2023-12-14T00:48:03.602492Z"
    },
    "papermill": {
     "duration": 0.020421,
     "end_time": "2023-12-14T00:48:03.605503",
     "exception": false,
     "start_time": "2023-12-14T00:48:03.585082",
     "status": "completed"
    },
    "tags": []
   },
   "outputs": [
    {
     "name": "stdout",
     "output_type": "stream",
     "text": [
      "<class 'pandas.core.frame.DataFrame'>\n",
      "RangeIndex: 150 entries, 0 to 149\n",
      "Data columns (total 5 columns):\n",
      " #   Column             Non-Null Count  Dtype  \n",
      "---  ------             --------------  -----  \n",
      " 0   target             150 non-null    object \n",
      " 1   sepal length (cm)  150 non-null    float64\n",
      " 2   sepal width (cm)   150 non-null    float64\n",
      " 3   petal length (cm)  150 non-null    float64\n",
      " 4   petal width (cm)   150 non-null    float64\n",
      "dtypes: float64(4), object(1)\n",
      "memory usage: 6.0+ KB\n"
     ]
    }
   ],
   "source": [
    "df.info()"
   ]
  },
  {
   "cell_type": "code",
   "execution_count": 6,
   "id": "a3450716",
   "metadata": {
    "execution": {
     "iopub.execute_input": "2023-12-14T00:48:03.613501Z",
     "iopub.status.busy": "2023-12-14T00:48:03.613501Z",
     "iopub.status.idle": "2023-12-14T00:48:03.629853Z",
     "shell.execute_reply": "2023-12-14T00:48:03.628842Z"
    },
    "papermill": {
     "duration": 0.023348,
     "end_time": "2023-12-14T00:48:03.631853",
     "exception": false,
     "start_time": "2023-12-14T00:48:03.608505",
     "status": "completed"
    },
    "tags": []
   },
   "outputs": [],
   "source": [
    "df.to_csv('data.csv')"
   ]
  }
 ],
 "metadata": {
  "kernelspec": {
   "display_name": "Python 3",
   "language": "python",
   "name": "python3"
  },
  "language_info": {
   "codemirror_mode": {
    "name": "ipython",
    "version": 3
   },
   "file_extension": ".py",
   "mimetype": "text/x-python",
   "name": "python",
   "nbconvert_exporter": "python",
   "pygments_lexer": "ipython3",
   "version": "3.11.5"
  },
  "papermill": {
   "default_parameters": {},
   "duration": 6.889431,
   "end_time": "2023-12-14T00:48:04.097359",
   "environment_variables": {},
   "exception": null,
   "input_path": "prepare.ipynb",
   "output_path": "outputs/prepare_out.ipynb",
   "parameters": {},
   "start_time": "2023-12-14T00:47:57.207928",
   "version": "2.5.0"
  }
 },
 "nbformat": 4,
 "nbformat_minor": 5
}