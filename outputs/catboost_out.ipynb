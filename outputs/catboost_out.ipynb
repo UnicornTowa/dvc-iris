{
 "cells": [
  {
   "cell_type": "code",
   "execution_count": 1,
   "id": "e55e10b2",
   "metadata": {
    "execution": {
     "iopub.execute_input": "2023-12-13T23:03:44.110964Z",
     "iopub.status.busy": "2023-12-13T23:03:44.110964Z",
     "iopub.status.idle": "2023-12-13T23:03:45.045456Z",
     "shell.execute_reply": "2023-12-13T23:03:45.045456Z"
    },
    "papermill": {
     "duration": 0.934492,
     "end_time": "2023-12-13T23:03:45.045456",
     "exception": false,
     "start_time": "2023-12-13T23:03:44.110964",
     "status": "completed"
    },
    "tags": []
   },
   "outputs": [],
   "source": [
    "import pandas as pd\n",
    "import numpy as np\n",
    "from catboost import CatBoostClassifier\n",
    "from catboost import Pool\n",
    "import yaml"
   ]
  },
  {
   "cell_type": "code",
   "execution_count": 2,
   "id": "d0fc769a",
   "metadata": {
    "execution": {
     "iopub.execute_input": "2023-12-13T23:03:45.055969Z",
     "iopub.status.busy": "2023-12-13T23:03:45.055969Z",
     "iopub.status.idle": "2023-12-13T23:03:45.064159Z",
     "shell.execute_reply": "2023-12-13T23:03:45.064159Z"
    },
    "papermill": {
     "duration": 0.018703,
     "end_time": "2023-12-13T23:03:45.064159",
     "exception": false,
     "start_time": "2023-12-13T23:03:45.045456",
     "status": "completed"
    },
    "tags": [
     "parameters"
    ]
   },
   "outputs": [],
   "source": [
    "SEED: int = 666\n",
    "TEST_SIZE: float = 0.2\n",
    "DATA: str = 'data.csv'\n",
    "ITERATIONS: int = 100\n",
    "EARLY_STOPPING_ROUNDS: int = 200\n",
    "L2_LEAF_REG: int = 50\n",
    "DEPTH: int = 6\n",
    "LEARNING_RATE: float = 0.05"
   ]
  },
  {
   "cell_type": "code",
   "execution_count": 3,
   "id": "b405fa0c",
   "metadata": {
    "execution": {
     "iopub.execute_input": "2023-12-13T23:03:45.071671Z",
     "iopub.status.busy": "2023-12-13T23:03:45.071671Z",
     "iopub.status.idle": "2023-12-13T23:03:45.080791Z",
     "shell.execute_reply": "2023-12-13T23:03:45.080791Z"
    },
    "papermill": {
     "duration": 0.016632,
     "end_time": "2023-12-13T23:03:45.080791",
     "exception": false,
     "start_time": "2023-12-13T23:03:45.064159",
     "status": "completed"
    },
    "tags": [
     "injected-parameters"
    ]
   },
   "outputs": [],
   "source": [
    "# Parameters\n",
    "SEED = 666\n",
    "DATA = \"data.csv\"\n",
    "TEST_SIZE = 0.2\n",
    "ITERATIONS = 100\n",
    "LEARNING_RATE = 0.05\n",
    "L2_LEAF_REG = 50\n",
    "EARLY_STOPPING_ROUNDS = 200\n",
    "DEPTH = 6\n"
   ]
  },
  {
   "cell_type": "code",
   "execution_count": 4,
   "id": "04597b8b",
   "metadata": {
    "execution": {
     "iopub.execute_input": "2023-12-13T23:03:45.094152Z",
     "iopub.status.busy": "2023-12-13T23:03:45.093153Z",
     "iopub.status.idle": "2023-12-13T23:03:45.123004Z",
     "shell.execute_reply": "2023-12-13T23:03:45.123004Z"
    },
    "papermill": {
     "duration": 0.035201,
     "end_time": "2023-12-13T23:03:45.123004",
     "exception": false,
     "start_time": "2023-12-13T23:03:45.087803",
     "status": "completed"
    },
    "tags": []
   },
   "outputs": [
    {
     "data": {
      "text/html": [
       "<div>\n",
       "<style scoped>\n",
       "    .dataframe tbody tr th:only-of-type {\n",
       "        vertical-align: middle;\n",
       "    }\n",
       "\n",
       "    .dataframe tbody tr th {\n",
       "        vertical-align: top;\n",
       "    }\n",
       "\n",
       "    .dataframe thead th {\n",
       "        text-align: right;\n",
       "    }\n",
       "</style>\n",
       "<table border=\"1\" class=\"dataframe\">\n",
       "  <thead>\n",
       "    <tr style=\"text-align: right;\">\n",
       "      <th></th>\n",
       "      <th>target</th>\n",
       "      <th>sepal length (cm)</th>\n",
       "      <th>sepal width (cm)</th>\n",
       "      <th>petal length (cm)</th>\n",
       "      <th>petal width (cm)</th>\n",
       "    </tr>\n",
       "  </thead>\n",
       "  <tbody>\n",
       "    <tr>\n",
       "      <th>0</th>\n",
       "      <td>setosa</td>\n",
       "      <td>5.1</td>\n",
       "      <td>3.5</td>\n",
       "      <td>1.4</td>\n",
       "      <td>0.2</td>\n",
       "    </tr>\n",
       "    <tr>\n",
       "      <th>1</th>\n",
       "      <td>setosa</td>\n",
       "      <td>4.9</td>\n",
       "      <td>3.0</td>\n",
       "      <td>1.4</td>\n",
       "      <td>0.2</td>\n",
       "    </tr>\n",
       "    <tr>\n",
       "      <th>2</th>\n",
       "      <td>setosa</td>\n",
       "      <td>4.7</td>\n",
       "      <td>3.2</td>\n",
       "      <td>1.3</td>\n",
       "      <td>0.2</td>\n",
       "    </tr>\n",
       "    <tr>\n",
       "      <th>3</th>\n",
       "      <td>setosa</td>\n",
       "      <td>4.6</td>\n",
       "      <td>3.1</td>\n",
       "      <td>1.5</td>\n",
       "      <td>0.2</td>\n",
       "    </tr>\n",
       "    <tr>\n",
       "      <th>4</th>\n",
       "      <td>setosa</td>\n",
       "      <td>5.0</td>\n",
       "      <td>3.6</td>\n",
       "      <td>1.4</td>\n",
       "      <td>0.2</td>\n",
       "    </tr>\n",
       "    <tr>\n",
       "      <th>...</th>\n",
       "      <td>...</td>\n",
       "      <td>...</td>\n",
       "      <td>...</td>\n",
       "      <td>...</td>\n",
       "      <td>...</td>\n",
       "    </tr>\n",
       "    <tr>\n",
       "      <th>145</th>\n",
       "      <td>virginica</td>\n",
       "      <td>6.7</td>\n",
       "      <td>3.0</td>\n",
       "      <td>5.2</td>\n",
       "      <td>2.3</td>\n",
       "    </tr>\n",
       "    <tr>\n",
       "      <th>146</th>\n",
       "      <td>virginica</td>\n",
       "      <td>6.3</td>\n",
       "      <td>2.5</td>\n",
       "      <td>5.0</td>\n",
       "      <td>1.9</td>\n",
       "    </tr>\n",
       "    <tr>\n",
       "      <th>147</th>\n",
       "      <td>virginica</td>\n",
       "      <td>6.5</td>\n",
       "      <td>3.0</td>\n",
       "      <td>5.2</td>\n",
       "      <td>2.0</td>\n",
       "    </tr>\n",
       "    <tr>\n",
       "      <th>148</th>\n",
       "      <td>virginica</td>\n",
       "      <td>6.2</td>\n",
       "      <td>3.4</td>\n",
       "      <td>5.4</td>\n",
       "      <td>2.3</td>\n",
       "    </tr>\n",
       "    <tr>\n",
       "      <th>149</th>\n",
       "      <td>virginica</td>\n",
       "      <td>5.9</td>\n",
       "      <td>3.0</td>\n",
       "      <td>5.1</td>\n",
       "      <td>1.8</td>\n",
       "    </tr>\n",
       "  </tbody>\n",
       "</table>\n",
       "<p>150 rows × 5 columns</p>\n",
       "</div>"
      ],
      "text/plain": [
       "        target  sepal length (cm)  sepal width (cm)  petal length (cm)  \\\n",
       "0       setosa                5.1               3.5                1.4   \n",
       "1       setosa                4.9               3.0                1.4   \n",
       "2       setosa                4.7               3.2                1.3   \n",
       "3       setosa                4.6               3.1                1.5   \n",
       "4       setosa                5.0               3.6                1.4   \n",
       "..         ...                ...               ...                ...   \n",
       "145  virginica                6.7               3.0                5.2   \n",
       "146  virginica                6.3               2.5                5.0   \n",
       "147  virginica                6.5               3.0                5.2   \n",
       "148  virginica                6.2               3.4                5.4   \n",
       "149  virginica                5.9               3.0                5.1   \n",
       "\n",
       "     petal width (cm)  \n",
       "0                 0.2  \n",
       "1                 0.2  \n",
       "2                 0.2  \n",
       "3                 0.2  \n",
       "4                 0.2  \n",
       "..                ...  \n",
       "145               2.3  \n",
       "146               1.9  \n",
       "147               2.0  \n",
       "148               2.3  \n",
       "149               1.8  \n",
       "\n",
       "[150 rows x 5 columns]"
      ]
     },
     "execution_count": 4,
     "metadata": {},
     "output_type": "execute_result"
    }
   ],
   "source": [
    "df = pd.read_csv(DATA, index_col=0)\n",
    "df"
   ]
  },
  {
   "cell_type": "code",
   "execution_count": 5,
   "id": "1cb07ec0",
   "metadata": {
    "execution": {
     "iopub.execute_input": "2023-12-13T23:03:45.131548Z",
     "iopub.status.busy": "2023-12-13T23:03:45.131548Z",
     "iopub.status.idle": "2023-12-13T23:03:45.141945Z",
     "shell.execute_reply": "2023-12-13T23:03:45.141945Z"
    },
    "papermill": {
     "duration": 0.015409,
     "end_time": "2023-12-13T23:03:45.141945",
     "exception": false,
     "start_time": "2023-12-13T23:03:45.126536",
     "status": "completed"
    },
    "tags": []
   },
   "outputs": [],
   "source": [
    "target = 'target'\n",
    "features = list(df.columns)\n",
    "features.remove(target)\n",
    "X = df[features]\n",
    "y = df[target]"
   ]
  },
  {
   "cell_type": "code",
   "execution_count": 6,
   "id": "6f941f41",
   "metadata": {
    "execution": {
     "iopub.execute_input": "2023-12-13T23:03:45.147525Z",
     "iopub.status.busy": "2023-12-13T23:03:45.147525Z",
     "iopub.status.idle": "2023-12-13T23:03:45.926400Z",
     "shell.execute_reply": "2023-12-13T23:03:45.926400Z"
    },
    "papermill": {
     "duration": 0.782411,
     "end_time": "2023-12-13T23:03:45.929936",
     "exception": false,
     "start_time": "2023-12-13T23:03:45.147525",
     "status": "completed"
    },
    "tags": []
   },
   "outputs": [],
   "source": [
    "from sklearn.model_selection import train_test_split\n",
    "\n",
    "X_train, X_test, y_train, y_test = train_test_split(X.values, y.values.reshape(-1), test_size=TEST_SIZE, random_state=SEED)\n",
    "\n",
    "train_pool = Pool(\n",
    "    data = X_train,\n",
    "    label = y_train,\n",
    ")\n",
    "\n",
    "test_pool = Pool(\n",
    "    data = X_test,\n",
    "    label = y_test,\n",
    ")"
   ]
  },
  {
   "cell_type": "code",
   "execution_count": 7,
   "id": "18b7b19f",
   "metadata": {
    "execution": {
     "iopub.execute_input": "2023-12-13T23:03:45.940927Z",
     "iopub.status.busy": "2023-12-13T23:03:45.940927Z",
     "iopub.status.idle": "2023-12-13T23:03:45.945194Z",
     "shell.execute_reply": "2023-12-13T23:03:45.945194Z"
    },
    "papermill": {
     "duration": 0.01328,
     "end_time": "2023-12-13T23:03:45.947206",
     "exception": false,
     "start_time": "2023-12-13T23:03:45.933926",
     "status": "completed"
    },
    "tags": []
   },
   "outputs": [],
   "source": [
    "cb = CatBoostClassifier(\n",
    "                            iterations=ITERATIONS,\n",
    "                            loss_function='MultiClass',\n",
    "                            early_stopping_rounds=EARLY_STOPPING_ROUNDS,\n",
    "                            l2_leaf_reg=L2_LEAF_REG,\n",
    "                            depth=DEPTH,\n",
    "                            learning_rate=LEARNING_RATE\n",
    "                          )"
   ]
  },
  {
   "cell_type": "code",
   "execution_count": 8,
   "id": "74073e1a",
   "metadata": {
    "execution": {
     "iopub.execute_input": "2023-12-13T23:03:45.959205Z",
     "iopub.status.busy": "2023-12-13T23:03:45.958207Z",
     "iopub.status.idle": "2023-12-13T23:03:46.296772Z",
     "shell.execute_reply": "2023-12-13T23:03:46.295762Z"
    },
    "papermill": {
     "duration": 0.346573,
     "end_time": "2023-12-13T23:03:46.298778",
     "exception": false,
     "start_time": "2023-12-13T23:03:45.952205",
     "status": "completed"
    },
    "tags": []
   },
   "outputs": [
    {
     "name": "stdout",
     "output_type": "stream",
     "text": [
      "0:\tlearn: 1.0873284\ttest: 1.0867296\tbest: 1.0867296 (0)\ttotal: 119ms\tremaining: 11.8s\n",
      "1:\tlearn: 1.0765592\ttest: 1.0758048\tbest: 1.0758048 (1)\ttotal: 121ms\tremaining: 5.9s\n",
      "2:\tlearn: 1.0667290\ttest: 1.0672705\tbest: 1.0672705 (2)\ttotal: 122ms\tremaining: 3.93s\n",
      "3:\tlearn: 1.0558478\ttest: 1.0555548\tbest: 1.0555548 (3)\ttotal: 123ms\tremaining: 2.96s\n",
      "4:\tlearn: 1.0457024\ttest: 1.0442916\tbest: 1.0442916 (4)\ttotal: 125ms\tremaining: 2.37s\n",
      "5:\tlearn: 1.0316673\ttest: 1.0299373\tbest: 1.0299373 (5)\ttotal: 126ms\tremaining: 1.98s\n",
      "6:\tlearn: 1.0233519\ttest: 1.0218627\tbest: 1.0218627 (6)\ttotal: 127ms\tremaining: 1.69s\n",
      "7:\tlearn: 1.0140671\ttest: 1.0129761\tbest: 1.0129761 (7)\ttotal: 128ms\tremaining: 1.47s\n",
      "8:\tlearn: 1.0022755\ttest: 1.0009647\tbest: 1.0009647 (8)\ttotal: 129ms\tremaining: 1.31s\n",
      "9:\tlearn: 0.9925370\ttest: 0.9897978\tbest: 0.9897978 (9)\ttotal: 131ms\tremaining: 1.18s\n",
      "10:\tlearn: 0.9844693\ttest: 0.9811421\tbest: 0.9811421 (10)\ttotal: 132ms\tremaining: 1.07s\n",
      "11:\tlearn: 0.9770065\ttest: 0.9736141\tbest: 0.9736141 (11)\ttotal: 134ms\tremaining: 979ms\n",
      "12:\tlearn: 0.9634495\ttest: 0.9582071\tbest: 0.9582071 (12)\ttotal: 134ms\tremaining: 898ms\n",
      "13:\tlearn: 0.9556119\ttest: 0.9500993\tbest: 0.9500993 (13)\ttotal: 136ms\tremaining: 833ms\n",
      "14:\tlearn: 0.9485312\ttest: 0.9428261\tbest: 0.9428261 (14)\ttotal: 137ms\tremaining: 774ms\n",
      "15:\tlearn: 0.9398240\ttest: 0.9340659\tbest: 0.9340659 (15)\ttotal: 138ms\tremaining: 722ms\n",
      "16:\tlearn: 0.9329615\ttest: 0.9285034\tbest: 0.9285034 (16)\ttotal: 139ms\tremaining: 678ms\n",
      "17:\tlearn: 0.9233780\ttest: 0.9185497\tbest: 0.9185497 (17)\ttotal: 140ms\tremaining: 638ms\n",
      "18:\tlearn: 0.9130280\ttest: 0.9087818\tbest: 0.9087818 (18)\ttotal: 141ms\tremaining: 600ms\n",
      "19:\tlearn: 0.9033027\ttest: 0.8980018\tbest: 0.8980018 (19)\ttotal: 142ms\tremaining: 567ms\n",
      "20:\tlearn: 0.8952100\ttest: 0.8887810\tbest: 0.8887810 (20)\ttotal: 143ms\tremaining: 537ms\n",
      "21:\tlearn: 0.8876454\ttest: 0.8814933\tbest: 0.8814933 (21)\ttotal: 144ms\tremaining: 510ms\n",
      "22:\tlearn: 0.8783943\ttest: 0.8720844\tbest: 0.8720844 (22)\ttotal: 145ms\tremaining: 485ms\n",
      "23:\tlearn: 0.8682380\ttest: 0.8619713\tbest: 0.8619713 (23)\ttotal: 146ms\tremaining: 463ms\n",
      "24:\tlearn: 0.8586816\ttest: 0.8514925\tbest: 0.8514925 (24)\ttotal: 147ms\tremaining: 441ms\n",
      "25:\tlearn: 0.8512128\ttest: 0.8427651\tbest: 0.8427651 (25)\ttotal: 148ms\tremaining: 421ms\n",
      "26:\tlearn: 0.8445826\ttest: 0.8362635\tbest: 0.8362635 (26)\ttotal: 149ms\tremaining: 403ms\n",
      "27:\tlearn: 0.8384296\ttest: 0.8302471\tbest: 0.8302471 (27)\ttotal: 150ms\tremaining: 385ms\n",
      "28:\tlearn: 0.8322014\ttest: 0.8234083\tbest: 0.8234083 (28)\ttotal: 151ms\tremaining: 370ms\n",
      "29:\tlearn: 0.8223074\ttest: 0.8134207\tbest: 0.8134207 (29)\ttotal: 152ms\tremaining: 355ms\n",
      "30:\tlearn: 0.8162809\ttest: 0.8057461\tbest: 0.8057461 (30)\ttotal: 153ms\tremaining: 341ms\n",
      "31:\tlearn: 0.8096779\ttest: 0.7994838\tbest: 0.7994838 (31)\ttotal: 155ms\tremaining: 328ms\n",
      "32:\tlearn: 0.8008676\ttest: 0.7903734\tbest: 0.7903734 (32)\ttotal: 156ms\tremaining: 316ms\n",
      "33:\tlearn: 0.7959489\ttest: 0.7854409\tbest: 0.7854409 (33)\ttotal: 157ms\tremaining: 304ms\n",
      "34:\tlearn: 0.7902187\ttest: 0.7799616\tbest: 0.7799616 (34)\ttotal: 158ms\tremaining: 293ms\n",
      "35:\tlearn: 0.7853129\ttest: 0.7746285\tbest: 0.7746285 (35)\ttotal: 159ms\tremaining: 283ms\n",
      "36:\tlearn: 0.7754839\ttest: 0.7639921\tbest: 0.7639921 (36)\ttotal: 160ms\tremaining: 273ms\n",
      "37:\tlearn: 0.7693511\ttest: 0.7569827\tbest: 0.7569827 (37)\ttotal: 162ms\tremaining: 264ms\n",
      "38:\tlearn: 0.7641209\ttest: 0.7517446\tbest: 0.7517446 (38)\ttotal: 163ms\tremaining: 254ms\n",
      "39:\tlearn: 0.7581392\ttest: 0.7451603\tbest: 0.7451603 (39)\ttotal: 164ms\tremaining: 245ms\n",
      "40:\tlearn: 0.7499088\ttest: 0.7376516\tbest: 0.7376516 (40)\ttotal: 164ms\tremaining: 237ms\n",
      "41:\tlearn: 0.7452057\ttest: 0.7328131\tbest: 0.7328131 (41)\ttotal: 165ms\tremaining: 228ms\n",
      "42:\tlearn: 0.7406407\ttest: 0.7286029\tbest: 0.7286029 (42)\ttotal: 167ms\tremaining: 221ms\n",
      "43:\tlearn: 0.7343561\ttest: 0.7213908\tbest: 0.7213908 (43)\ttotal: 168ms\tremaining: 213ms\n",
      "44:\tlearn: 0.7307896\ttest: 0.7176375\tbest: 0.7176375 (44)\ttotal: 169ms\tremaining: 206ms\n",
      "45:\tlearn: 0.7266831\ttest: 0.7141602\tbest: 0.7141602 (45)\ttotal: 170ms\tremaining: 199ms\n",
      "46:\tlearn: 0.7192341\ttest: 0.7063907\tbest: 0.7063907 (46)\ttotal: 171ms\tremaining: 193ms\n",
      "47:\tlearn: 0.7124027\ttest: 0.6991275\tbest: 0.6991275 (47)\ttotal: 172ms\tremaining: 186ms\n",
      "48:\tlearn: 0.7058435\ttest: 0.6933158\tbest: 0.6933158 (48)\ttotal: 173ms\tremaining: 180ms\n",
      "49:\tlearn: 0.7008896\ttest: 0.6896378\tbest: 0.6896378 (49)\ttotal: 174ms\tremaining: 174ms\n",
      "50:\tlearn: 0.6962297\ttest: 0.6842686\tbest: 0.6842686 (50)\ttotal: 175ms\tremaining: 168ms\n",
      "51:\tlearn: 0.6877973\ttest: 0.6753094\tbest: 0.6753094 (51)\ttotal: 176ms\tremaining: 162ms\n",
      "52:\tlearn: 0.6827309\ttest: 0.6703970\tbest: 0.6703970 (52)\ttotal: 177ms\tremaining: 157ms\n",
      "53:\tlearn: 0.6772125\ttest: 0.6637430\tbest: 0.6637430 (53)\ttotal: 178ms\tremaining: 152ms\n",
      "54:\tlearn: 0.6726978\ttest: 0.6599030\tbest: 0.6599030 (54)\ttotal: 179ms\tremaining: 146ms\n",
      "55:\tlearn: 0.6670063\ttest: 0.6540089\tbest: 0.6540089 (55)\ttotal: 180ms\tremaining: 142ms\n",
      "56:\tlearn: 0.6628250\ttest: 0.6500850\tbest: 0.6500850 (56)\ttotal: 181ms\tremaining: 137ms\n",
      "57:\tlearn: 0.6581480\ttest: 0.6452404\tbest: 0.6452404 (57)\ttotal: 182ms\tremaining: 132ms\n",
      "58:\tlearn: 0.6513454\ttest: 0.6376206\tbest: 0.6376206 (58)\ttotal: 184ms\tremaining: 128ms\n",
      "59:\tlearn: 0.6477077\ttest: 0.6336723\tbest: 0.6336723 (59)\ttotal: 185ms\tremaining: 123ms\n",
      "60:\tlearn: 0.6425209\ttest: 0.6282636\tbest: 0.6282636 (60)\ttotal: 186ms\tremaining: 119ms\n",
      "61:\tlearn: 0.6362888\ttest: 0.6226084\tbest: 0.6226084 (61)\ttotal: 187ms\tremaining: 114ms\n",
      "62:\tlearn: 0.6303393\ttest: 0.6160526\tbest: 0.6160526 (62)\ttotal: 188ms\tremaining: 110ms\n",
      "63:\tlearn: 0.6252669\ttest: 0.6117348\tbest: 0.6117348 (63)\ttotal: 189ms\tremaining: 106ms\n",
      "64:\tlearn: 0.6203572\ttest: 0.6069444\tbest: 0.6069444 (64)\ttotal: 190ms\tremaining: 102ms\n",
      "65:\tlearn: 0.6144147\ttest: 0.5997034\tbest: 0.5997034 (65)\ttotal: 191ms\tremaining: 98.4ms\n",
      "66:\tlearn: 0.6096090\ttest: 0.5949083\tbest: 0.5949083 (66)\ttotal: 192ms\tremaining: 94.6ms\n",
      "67:\tlearn: 0.6032099\ttest: 0.5873086\tbest: 0.5873086 (67)\ttotal: 193ms\tremaining: 91ms\n",
      "68:\tlearn: 0.5960479\ttest: 0.5793568\tbest: 0.5793568 (68)\ttotal: 194ms\tremaining: 87.1ms\n",
      "69:\tlearn: 0.5903656\ttest: 0.5734812\tbest: 0.5734812 (69)\ttotal: 195ms\tremaining: 83.5ms\n",
      "70:\tlearn: 0.5857930\ttest: 0.5678568\tbest: 0.5678568 (70)\ttotal: 196ms\tremaining: 80ms\n",
      "71:\tlearn: 0.5816149\ttest: 0.5628287\tbest: 0.5628287 (71)\ttotal: 197ms\tremaining: 76.6ms\n",
      "72:\tlearn: 0.5787482\ttest: 0.5596619\tbest: 0.5596619 (72)\ttotal: 198ms\tremaining: 73.3ms\n",
      "73:\tlearn: 0.5759183\ttest: 0.5567105\tbest: 0.5567105 (73)\ttotal: 199ms\tremaining: 70ms\n",
      "74:\tlearn: 0.5723141\ttest: 0.5535086\tbest: 0.5535086 (74)\ttotal: 200ms\tremaining: 66.8ms\n",
      "75:\tlearn: 0.5674406\ttest: 0.5482790\tbest: 0.5482790 (75)\ttotal: 202ms\tremaining: 63.6ms\n",
      "76:\tlearn: 0.5642482\ttest: 0.5457721\tbest: 0.5457721 (76)\ttotal: 203ms\tremaining: 60.5ms\n",
      "77:\tlearn: 0.5586514\ttest: 0.5394981\tbest: 0.5394981 (77)\ttotal: 204ms\tremaining: 57.5ms\n",
      "78:\tlearn: 0.5539621\ttest: 0.5341893\tbest: 0.5341893 (78)\ttotal: 205ms\tremaining: 54.4ms\n",
      "79:\tlearn: 0.5503999\ttest: 0.5306053\tbest: 0.5306053 (79)\ttotal: 206ms\tremaining: 51.4ms\n",
      "80:\tlearn: 0.5469433\ttest: 0.5270604\tbest: 0.5270604 (80)\ttotal: 207ms\tremaining: 48.5ms\n",
      "81:\tlearn: 0.5438892\ttest: 0.5242734\tbest: 0.5242734 (81)\ttotal: 208ms\tremaining: 45.6ms\n",
      "82:\tlearn: 0.5401656\ttest: 0.5208950\tbest: 0.5208950 (82)\ttotal: 209ms\tremaining: 42.8ms\n",
      "83:\tlearn: 0.5367480\ttest: 0.5171183\tbest: 0.5171183 (83)\ttotal: 210ms\tremaining: 40ms\n",
      "84:\tlearn: 0.5312571\ttest: 0.5111588\tbest: 0.5111588 (84)\ttotal: 211ms\tremaining: 37.2ms\n",
      "85:\tlearn: 0.5278980\ttest: 0.5074205\tbest: 0.5074205 (85)\ttotal: 212ms\tremaining: 34.5ms\n",
      "86:\tlearn: 0.5239480\ttest: 0.5033898\tbest: 0.5033898 (86)\ttotal: 212ms\tremaining: 31.7ms\n",
      "87:\tlearn: 0.5201413\ttest: 0.4990086\tbest: 0.4990086 (87)\ttotal: 214ms\tremaining: 29.1ms\n",
      "88:\tlearn: 0.5157820\ttest: 0.4938424\tbest: 0.4938424 (88)\ttotal: 215ms\tremaining: 26.5ms\n",
      "89:\tlearn: 0.5127230\ttest: 0.4913202\tbest: 0.4913202 (89)\ttotal: 216ms\tremaining: 24ms\n",
      "90:\tlearn: 0.5090021\ttest: 0.4872458\tbest: 0.4872458 (90)\ttotal: 217ms\tremaining: 21.4ms\n",
      "91:\tlearn: 0.5054850\ttest: 0.4836642\tbest: 0.4836642 (91)\ttotal: 218ms\tremaining: 18.9ms\n",
      "92:\tlearn: 0.5021713\ttest: 0.4799984\tbest: 0.4799984 (92)\ttotal: 219ms\tremaining: 16.4ms\n",
      "93:\tlearn: 0.4977118\ttest: 0.4748312\tbest: 0.4748312 (93)\ttotal: 219ms\tremaining: 14ms\n",
      "94:\tlearn: 0.4949834\ttest: 0.4719983\tbest: 0.4719983 (94)\ttotal: 220ms\tremaining: 11.6ms\n",
      "95:\tlearn: 0.4918022\ttest: 0.4684254\tbest: 0.4684254 (95)\ttotal: 221ms\tremaining: 9.22ms\n",
      "96:\tlearn: 0.4888425\ttest: 0.4654909\tbest: 0.4654909 (96)\ttotal: 222ms\tremaining: 6.88ms\n",
      "97:\tlearn: 0.4859220\ttest: 0.4623200\tbest: 0.4623200 (97)\ttotal: 223ms\tremaining: 4.56ms\n",
      "98:\tlearn: 0.4823633\ttest: 0.4588221\tbest: 0.4588221 (98)\ttotal: 224ms\tremaining: 2.27ms\n",
      "99:\tlearn: 0.4804384\ttest: 0.4569062\tbest: 0.4569062 (99)\ttotal: 225ms\tremaining: 0us\n",
      "\n",
      "bestTest = 0.456906233\n",
      "bestIteration = 99\n",
      "\n"
     ]
    },
    {
     "data": {
      "text/plain": [
       "<catboost.core.CatBoostClassifier at 0x159bf553750>"
      ]
     },
     "execution_count": 8,
     "metadata": {},
     "output_type": "execute_result"
    }
   ],
   "source": [
    "cb.fit(train_pool,\n",
    "          eval_set=test_pool,\n",
    "          verbose=True,\n",
    "          plot=False\n",
    "          )"
   ]
  },
  {
   "cell_type": "code",
   "execution_count": 9,
   "id": "5edc8999",
   "metadata": {
    "execution": {
     "iopub.execute_input": "2023-12-13T23:03:46.310689Z",
     "iopub.status.busy": "2023-12-13T23:03:46.310689Z",
     "iopub.status.idle": "2023-12-13T23:03:46.319080Z",
     "shell.execute_reply": "2023-12-13T23:03:46.318178Z"
    },
    "papermill": {
     "duration": 0.015307,
     "end_time": "2023-12-13T23:03:46.319080",
     "exception": false,
     "start_time": "2023-12-13T23:03:46.303773",
     "status": "completed"
    },
    "tags": []
   },
   "outputs": [
    {
     "data": {
      "text/plain": [
       "array([['versicolor'],\n",
       "       ['virginica'],\n",
       "       ['versicolor'],\n",
       "       ['virginica'],\n",
       "       ['setosa'],\n",
       "       ['versicolor'],\n",
       "       ['versicolor'],\n",
       "       ['virginica'],\n",
       "       ['versicolor'],\n",
       "       ['versicolor'],\n",
       "       ['versicolor'],\n",
       "       ['setosa'],\n",
       "       ['setosa'],\n",
       "       ['setosa'],\n",
       "       ['virginica'],\n",
       "       ['versicolor'],\n",
       "       ['setosa'],\n",
       "       ['virginica'],\n",
       "       ['virginica'],\n",
       "       ['virginica'],\n",
       "       ['versicolor'],\n",
       "       ['setosa'],\n",
       "       ['virginica'],\n",
       "       ['setosa'],\n",
       "       ['versicolor'],\n",
       "       ['versicolor'],\n",
       "       ['setosa'],\n",
       "       ['versicolor'],\n",
       "       ['virginica'],\n",
       "       ['virginica']], dtype=object)"
      ]
     },
     "execution_count": 9,
     "metadata": {},
     "output_type": "execute_result"
    }
   ],
   "source": [
    "preds = cb.predict(X_test)\n",
    "preds"
   ]
  },
  {
   "cell_type": "code",
   "execution_count": 10,
   "id": "f21e419a",
   "metadata": {
    "execution": {
     "iopub.execute_input": "2023-12-13T23:03:46.333334Z",
     "iopub.status.busy": "2023-12-13T23:03:46.332340Z",
     "iopub.status.idle": "2023-12-13T23:03:46.339803Z",
     "shell.execute_reply": "2023-12-13T23:03:46.338795Z"
    },
    "papermill": {
     "duration": 0.015979,
     "end_time": "2023-12-13T23:03:46.341805",
     "exception": false,
     "start_time": "2023-12-13T23:03:46.325826",
     "status": "completed"
    },
    "tags": []
   },
   "outputs": [
    {
     "data": {
      "text/plain": [
       "array(['versicolor', 'virginica', 'versicolor', 'virginica', 'setosa',\n",
       "       'versicolor', 'versicolor', 'virginica', 'versicolor',\n",
       "       'versicolor', 'versicolor', 'setosa', 'setosa', 'setosa',\n",
       "       'virginica', 'versicolor', 'setosa', 'virginica', 'virginica',\n",
       "       'virginica', 'versicolor', 'setosa', 'virginica', 'setosa',\n",
       "       'versicolor', 'versicolor', 'setosa', 'versicolor', 'virginica',\n",
       "       'virginica'], dtype=object)"
      ]
     },
     "execution_count": 10,
     "metadata": {},
     "output_type": "execute_result"
    }
   ],
   "source": [
    "y_test"
   ]
  },
  {
   "cell_type": "code",
   "execution_count": 11,
   "id": "1189a0af",
   "metadata": {
    "execution": {
     "iopub.execute_input": "2023-12-13T23:03:46.355136Z",
     "iopub.status.busy": "2023-12-13T23:03:46.355136Z",
     "iopub.status.idle": "2023-12-13T23:03:46.368026Z",
     "shell.execute_reply": "2023-12-13T23:03:46.367020Z"
    },
    "papermill": {
     "duration": 0.0229,
     "end_time": "2023-12-13T23:03:46.370027",
     "exception": false,
     "start_time": "2023-12-13T23:03:46.347127",
     "status": "completed"
    },
    "tags": []
   },
   "outputs": [],
   "source": [
    "from sklearn.metrics import accuracy_score, precision_score, recall_score, f1_score, confusion_matrix\n",
    "\n",
    "accuracy = accuracy_score(y_test, preds)\n",
    "precision = precision_score(y_test, preds, average='micro')\n",
    "recall = recall_score(y_test, preds, average='micro')\n",
    "f1 = f1_score(y_test, preds, average='micro')"
   ]
  },
  {
   "cell_type": "code",
   "execution_count": 12,
   "id": "222a58f0",
   "metadata": {
    "execution": {
     "iopub.execute_input": "2023-12-13T23:03:46.383406Z",
     "iopub.status.busy": "2023-12-13T23:03:46.382395Z",
     "iopub.status.idle": "2023-12-13T23:03:46.390767Z",
     "shell.execute_reply": "2023-12-13T23:03:46.389755Z"
    },
    "papermill": {
     "duration": 0.017717,
     "end_time": "2023-12-13T23:03:46.392766",
     "exception": false,
     "start_time": "2023-12-13T23:03:46.375049",
     "status": "completed"
    },
    "tags": []
   },
   "outputs": [],
   "source": [
    "metrics = {}\n",
    "\n",
    "metrics['accuracy cb'] = float(accuracy)\n",
    "metrics['presicion cb'] = float(precision)\n",
    "metrics['recall cb'] = float(recall)\n",
    "metrics['f1 cb'] = float(f1)\n",
    "\n",
    "with open('./outputs/metrics_cb.yaml', 'w') as file:\n",
    "    yaml.dump(metrics, file, default_flow_style=False)"
   ]
  },
  {
   "cell_type": "code",
   "execution_count": 13,
   "id": "1da249c5",
   "metadata": {
    "execution": {
     "iopub.execute_input": "2023-12-13T23:03:46.406409Z",
     "iopub.status.busy": "2023-12-13T23:03:46.406409Z",
     "iopub.status.idle": "2023-12-13T23:03:46.413431Z",
     "shell.execute_reply": "2023-12-13T23:03:46.412225Z"
    },
    "papermill": {
     "duration": 0.015414,
     "end_time": "2023-12-13T23:03:46.414440",
     "exception": false,
     "start_time": "2023-12-13T23:03:46.399026",
     "status": "completed"
    },
    "tags": []
   },
   "outputs": [
    {
     "data": {
      "text/plain": [
       "{'accuracy cb': 1.0, 'presicion cb': 1.0, 'recall cb': 1.0, 'f1 cb': 1.0}"
      ]
     },
     "execution_count": 13,
     "metadata": {},
     "output_type": "execute_result"
    }
   ],
   "source": [
    "metrics"
   ]
  },
  {
   "cell_type": "code",
   "execution_count": 14,
   "id": "edb3ea15",
   "metadata": {
    "execution": {
     "iopub.execute_input": "2023-12-13T23:03:46.428629Z",
     "iopub.status.busy": "2023-12-13T23:03:46.428629Z",
     "iopub.status.idle": "2023-12-13T23:03:46.435720Z",
     "shell.execute_reply": "2023-12-13T23:03:46.435720Z"
    },
    "papermill": {
     "duration": 0.017449,
     "end_time": "2023-12-13T23:03:46.438000",
     "exception": false,
     "start_time": "2023-12-13T23:03:46.420551",
     "status": "completed"
    },
    "tags": []
   },
   "outputs": [
    {
     "data": {
      "text/plain": [
       "['versicolor',\n",
       " 'virginica',\n",
       " 'versicolor',\n",
       " 'virginica',\n",
       " 'setosa',\n",
       " 'versicolor',\n",
       " 'versicolor',\n",
       " 'virginica',\n",
       " 'versicolor',\n",
       " 'versicolor',\n",
       " 'versicolor',\n",
       " 'setosa',\n",
       " 'setosa',\n",
       " 'setosa',\n",
       " 'virginica',\n",
       " 'versicolor',\n",
       " 'setosa',\n",
       " 'virginica',\n",
       " 'virginica',\n",
       " 'virginica',\n",
       " 'versicolor',\n",
       " 'setosa',\n",
       " 'virginica',\n",
       " 'setosa',\n",
       " 'versicolor',\n",
       " 'versicolor',\n",
       " 'setosa',\n",
       " 'versicolor',\n",
       " 'virginica',\n",
       " 'virginica']"
      ]
     },
     "execution_count": 14,
     "metadata": {},
     "output_type": "execute_result"
    }
   ],
   "source": [
    "preds = [i[0] for i in preds]\n",
    "preds"
   ]
  },
  {
   "cell_type": "code",
   "execution_count": 15,
   "id": "bafa6e3c",
   "metadata": {
    "execution": {
     "iopub.execute_input": "2023-12-13T23:03:46.452997Z",
     "iopub.status.busy": "2023-12-13T23:03:46.451999Z",
     "iopub.status.idle": "2023-12-13T23:03:46.464727Z",
     "shell.execute_reply": "2023-12-13T23:03:46.464727Z"
    },
    "papermill": {
     "duration": 0.021729,
     "end_time": "2023-12-13T23:03:46.466735",
     "exception": false,
     "start_time": "2023-12-13T23:03:46.445006",
     "status": "completed"
    },
    "tags": []
   },
   "outputs": [
    {
     "data": {
      "text/html": [
       "<div>\n",
       "<style scoped>\n",
       "    .dataframe tbody tr th:only-of-type {\n",
       "        vertical-align: middle;\n",
       "    }\n",
       "\n",
       "    .dataframe tbody tr th {\n",
       "        vertical-align: top;\n",
       "    }\n",
       "\n",
       "    .dataframe thead th {\n",
       "        text-align: right;\n",
       "    }\n",
       "</style>\n",
       "<table border=\"1\" class=\"dataframe\">\n",
       "  <thead>\n",
       "    <tr style=\"text-align: right;\">\n",
       "      <th></th>\n",
       "      <th>actual_class</th>\n",
       "      <th>predicted_class</th>\n",
       "    </tr>\n",
       "  </thead>\n",
       "  <tbody>\n",
       "    <tr>\n",
       "      <th>0</th>\n",
       "      <td>versicolor</td>\n",
       "      <td>versicolor</td>\n",
       "    </tr>\n",
       "    <tr>\n",
       "      <th>1</th>\n",
       "      <td>virginica</td>\n",
       "      <td>virginica</td>\n",
       "    </tr>\n",
       "    <tr>\n",
       "      <th>2</th>\n",
       "      <td>versicolor</td>\n",
       "      <td>versicolor</td>\n",
       "    </tr>\n",
       "    <tr>\n",
       "      <th>3</th>\n",
       "      <td>virginica</td>\n",
       "      <td>virginica</td>\n",
       "    </tr>\n",
       "    <tr>\n",
       "      <th>4</th>\n",
       "      <td>setosa</td>\n",
       "      <td>setosa</td>\n",
       "    </tr>\n",
       "    <tr>\n",
       "      <th>5</th>\n",
       "      <td>versicolor</td>\n",
       "      <td>versicolor</td>\n",
       "    </tr>\n",
       "    <tr>\n",
       "      <th>6</th>\n",
       "      <td>versicolor</td>\n",
       "      <td>versicolor</td>\n",
       "    </tr>\n",
       "    <tr>\n",
       "      <th>7</th>\n",
       "      <td>virginica</td>\n",
       "      <td>virginica</td>\n",
       "    </tr>\n",
       "    <tr>\n",
       "      <th>8</th>\n",
       "      <td>versicolor</td>\n",
       "      <td>versicolor</td>\n",
       "    </tr>\n",
       "    <tr>\n",
       "      <th>9</th>\n",
       "      <td>versicolor</td>\n",
       "      <td>versicolor</td>\n",
       "    </tr>\n",
       "    <tr>\n",
       "      <th>10</th>\n",
       "      <td>versicolor</td>\n",
       "      <td>versicolor</td>\n",
       "    </tr>\n",
       "    <tr>\n",
       "      <th>11</th>\n",
       "      <td>setosa</td>\n",
       "      <td>setosa</td>\n",
       "    </tr>\n",
       "    <tr>\n",
       "      <th>12</th>\n",
       "      <td>setosa</td>\n",
       "      <td>setosa</td>\n",
       "    </tr>\n",
       "    <tr>\n",
       "      <th>13</th>\n",
       "      <td>setosa</td>\n",
       "      <td>setosa</td>\n",
       "    </tr>\n",
       "    <tr>\n",
       "      <th>14</th>\n",
       "      <td>virginica</td>\n",
       "      <td>virginica</td>\n",
       "    </tr>\n",
       "    <tr>\n",
       "      <th>15</th>\n",
       "      <td>versicolor</td>\n",
       "      <td>versicolor</td>\n",
       "    </tr>\n",
       "    <tr>\n",
       "      <th>16</th>\n",
       "      <td>setosa</td>\n",
       "      <td>setosa</td>\n",
       "    </tr>\n",
       "    <tr>\n",
       "      <th>17</th>\n",
       "      <td>virginica</td>\n",
       "      <td>virginica</td>\n",
       "    </tr>\n",
       "    <tr>\n",
       "      <th>18</th>\n",
       "      <td>virginica</td>\n",
       "      <td>virginica</td>\n",
       "    </tr>\n",
       "    <tr>\n",
       "      <th>19</th>\n",
       "      <td>virginica</td>\n",
       "      <td>virginica</td>\n",
       "    </tr>\n",
       "    <tr>\n",
       "      <th>20</th>\n",
       "      <td>versicolor</td>\n",
       "      <td>versicolor</td>\n",
       "    </tr>\n",
       "    <tr>\n",
       "      <th>21</th>\n",
       "      <td>setosa</td>\n",
       "      <td>setosa</td>\n",
       "    </tr>\n",
       "    <tr>\n",
       "      <th>22</th>\n",
       "      <td>virginica</td>\n",
       "      <td>virginica</td>\n",
       "    </tr>\n",
       "    <tr>\n",
       "      <th>23</th>\n",
       "      <td>setosa</td>\n",
       "      <td>setosa</td>\n",
       "    </tr>\n",
       "    <tr>\n",
       "      <th>24</th>\n",
       "      <td>versicolor</td>\n",
       "      <td>versicolor</td>\n",
       "    </tr>\n",
       "    <tr>\n",
       "      <th>25</th>\n",
       "      <td>versicolor</td>\n",
       "      <td>versicolor</td>\n",
       "    </tr>\n",
       "    <tr>\n",
       "      <th>26</th>\n",
       "      <td>setosa</td>\n",
       "      <td>setosa</td>\n",
       "    </tr>\n",
       "    <tr>\n",
       "      <th>27</th>\n",
       "      <td>versicolor</td>\n",
       "      <td>versicolor</td>\n",
       "    </tr>\n",
       "    <tr>\n",
       "      <th>28</th>\n",
       "      <td>virginica</td>\n",
       "      <td>virginica</td>\n",
       "    </tr>\n",
       "    <tr>\n",
       "      <th>29</th>\n",
       "      <td>virginica</td>\n",
       "      <td>virginica</td>\n",
       "    </tr>\n",
       "  </tbody>\n",
       "</table>\n",
       "</div>"
      ],
      "text/plain": [
       "   actual_class predicted_class\n",
       "0    versicolor      versicolor\n",
       "1     virginica       virginica\n",
       "2    versicolor      versicolor\n",
       "3     virginica       virginica\n",
       "4        setosa          setosa\n",
       "5    versicolor      versicolor\n",
       "6    versicolor      versicolor\n",
       "7     virginica       virginica\n",
       "8    versicolor      versicolor\n",
       "9    versicolor      versicolor\n",
       "10   versicolor      versicolor\n",
       "11       setosa          setosa\n",
       "12       setosa          setosa\n",
       "13       setosa          setosa\n",
       "14    virginica       virginica\n",
       "15   versicolor      versicolor\n",
       "16       setosa          setosa\n",
       "17    virginica       virginica\n",
       "18    virginica       virginica\n",
       "19    virginica       virginica\n",
       "20   versicolor      versicolor\n",
       "21       setosa          setosa\n",
       "22    virginica       virginica\n",
       "23       setosa          setosa\n",
       "24   versicolor      versicolor\n",
       "25   versicolor      versicolor\n",
       "26       setosa          setosa\n",
       "27   versicolor      versicolor\n",
       "28    virginica       virginica\n",
       "29    virginica       virginica"
      ]
     },
     "execution_count": 15,
     "metadata": {},
     "output_type": "execute_result"
    }
   ],
   "source": [
    "test_classes = pd.DataFrame()\n",
    "\n",
    "test_classes['actual_class'] = y_test\n",
    "test_classes['predicted_class'] = preds\n",
    "test_classes"
   ]
  },
  {
   "cell_type": "code",
   "execution_count": 16,
   "id": "ec53d446",
   "metadata": {
    "execution": {
     "iopub.execute_input": "2023-12-13T23:03:46.482068Z",
     "iopub.status.busy": "2023-12-13T23:03:46.482068Z",
     "iopub.status.idle": "2023-12-13T23:03:46.495019Z",
     "shell.execute_reply": "2023-12-13T23:03:46.495019Z"
    },
    "papermill": {
     "duration": 0.023965,
     "end_time": "2023-12-13T23:03:46.498033",
     "exception": false,
     "start_time": "2023-12-13T23:03:46.474068",
     "status": "completed"
    },
    "tags": []
   },
   "outputs": [
    {
     "data": {
      "text/html": [
       "<div>\n",
       "<style scoped>\n",
       "    .dataframe tbody tr th:only-of-type {\n",
       "        vertical-align: middle;\n",
       "    }\n",
       "\n",
       "    .dataframe tbody tr th {\n",
       "        vertical-align: top;\n",
       "    }\n",
       "\n",
       "    .dataframe thead th {\n",
       "        text-align: right;\n",
       "    }\n",
       "</style>\n",
       "<table border=\"1\" class=\"dataframe\">\n",
       "  <thead>\n",
       "    <tr style=\"text-align: right;\">\n",
       "      <th></th>\n",
       "      <th>actual_class</th>\n",
       "      <th>predicted_class</th>\n",
       "    </tr>\n",
       "  </thead>\n",
       "  <tbody>\n",
       "    <tr>\n",
       "      <th>0</th>\n",
       "      <td>setosa</td>\n",
       "      <td>setosa</td>\n",
       "    </tr>\n",
       "    <tr>\n",
       "      <th>1</th>\n",
       "      <td>setosa</td>\n",
       "      <td>setosa</td>\n",
       "    </tr>\n",
       "    <tr>\n",
       "      <th>2</th>\n",
       "      <td>versicolor</td>\n",
       "      <td>versicolor</td>\n",
       "    </tr>\n",
       "    <tr>\n",
       "      <th>3</th>\n",
       "      <td>virginica</td>\n",
       "      <td>virginica</td>\n",
       "    </tr>\n",
       "    <tr>\n",
       "      <th>4</th>\n",
       "      <td>versicolor</td>\n",
       "      <td>versicolor</td>\n",
       "    </tr>\n",
       "    <tr>\n",
       "      <th>...</th>\n",
       "      <td>...</td>\n",
       "      <td>...</td>\n",
       "    </tr>\n",
       "    <tr>\n",
       "      <th>115</th>\n",
       "      <td>versicolor</td>\n",
       "      <td>versicolor</td>\n",
       "    </tr>\n",
       "    <tr>\n",
       "      <th>116</th>\n",
       "      <td>versicolor</td>\n",
       "      <td>versicolor</td>\n",
       "    </tr>\n",
       "    <tr>\n",
       "      <th>117</th>\n",
       "      <td>versicolor</td>\n",
       "      <td>virginica</td>\n",
       "    </tr>\n",
       "    <tr>\n",
       "      <th>118</th>\n",
       "      <td>versicolor</td>\n",
       "      <td>versicolor</td>\n",
       "    </tr>\n",
       "    <tr>\n",
       "      <th>119</th>\n",
       "      <td>virginica</td>\n",
       "      <td>virginica</td>\n",
       "    </tr>\n",
       "  </tbody>\n",
       "</table>\n",
       "<p>120 rows × 2 columns</p>\n",
       "</div>"
      ],
      "text/plain": [
       "    actual_class predicted_class\n",
       "0         setosa          setosa\n",
       "1         setosa          setosa\n",
       "2     versicolor      versicolor\n",
       "3      virginica       virginica\n",
       "4     versicolor      versicolor\n",
       "..           ...             ...\n",
       "115   versicolor      versicolor\n",
       "116   versicolor      versicolor\n",
       "117   versicolor       virginica\n",
       "118   versicolor      versicolor\n",
       "119    virginica       virginica\n",
       "\n",
       "[120 rows x 2 columns]"
      ]
     },
     "execution_count": 16,
     "metadata": {},
     "output_type": "execute_result"
    }
   ],
   "source": [
    "train_classes = pd.DataFrame()\n",
    "\n",
    "train_classes['actual_class'] = y_train\n",
    "train_classes['predicted_class'] = [i[0] for i in cb.predict(X_train)]\n",
    "train_classes"
   ]
  },
  {
   "cell_type": "code",
   "execution_count": 17,
   "id": "8ad75753",
   "metadata": {
    "execution": {
     "iopub.execute_input": "2023-12-13T23:03:46.512036Z",
     "iopub.status.busy": "2023-12-13T23:03:46.512036Z",
     "iopub.status.idle": "2023-12-13T23:03:46.520185Z",
     "shell.execute_reply": "2023-12-13T23:03:46.520185Z"
    },
    "papermill": {
     "duration": 0.018439,
     "end_time": "2023-12-13T23:03:46.522470",
     "exception": false,
     "start_time": "2023-12-13T23:03:46.504031",
     "status": "completed"
    },
    "tags": []
   },
   "outputs": [],
   "source": [
    "test_classes.to_csv('outputs/test_classes_cb.csv', index=False)\n",
    "train_classes.to_csv('outputs/train_classes_cb.csv', index=False)"
   ]
  },
  {
   "cell_type": "code",
   "execution_count": 18,
   "id": "bdb23d7c",
   "metadata": {
    "execution": {
     "iopub.execute_input": "2023-12-13T23:03:46.530778Z",
     "iopub.status.busy": "2023-12-13T23:03:46.530778Z",
     "iopub.status.idle": "2023-12-13T23:03:46.543093Z",
     "shell.execute_reply": "2023-12-13T23:03:46.543093Z"
    },
    "papermill": {
     "duration": 0.013826,
     "end_time": "2023-12-13T23:03:46.543093",
     "exception": false,
     "start_time": "2023-12-13T23:03:46.529267",
     "status": "completed"
    },
    "tags": []
   },
   "outputs": [],
   "source": [
    "import pickle\n",
    "\n",
    "with open('./outputs/model_cb.pckl', 'wb') as file:\n",
    "    pickle.dump(cb, file)"
   ]
  },
  {
   "cell_type": "code",
   "execution_count": null,
   "id": "801a1f04",
   "metadata": {
    "papermill": {
     "duration": 0.006684,
     "end_time": "2023-12-13T23:03:46.559191",
     "exception": false,
     "start_time": "2023-12-13T23:03:46.552507",
     "status": "completed"
    },
    "tags": []
   },
   "outputs": [],
   "source": []
  }
 ],
 "metadata": {
  "kernelspec": {
   "display_name": "Python 3",
   "language": "python",
   "name": "python3"
  },
  "language_info": {
   "codemirror_mode": {
    "name": "ipython",
    "version": 3
   },
   "file_extension": ".py",
   "mimetype": "text/x-python",
   "name": "python",
   "nbconvert_exporter": "python",
   "pygments_lexer": "ipython3",
   "version": "3.11.5"
  },
  "papermill": {
   "default_parameters": {},
   "duration": 6.547374,
   "end_time": "2023-12-13T23:03:46.996856",
   "environment_variables": {},
   "exception": null,
   "input_path": "catboost.ipynb",
   "output_path": "outputs/catboost_out.ipynb",
   "parameters": {
    "DATA": "data.csv",
    "DEPTH": 6,
    "EARLY_STOPPING_ROUNDS": 200,
    "ITERATIONS": 100,
    "L2_LEAF_REG": 50,
    "LEARNING_RATE": 0.05,
    "SEED": 666,
    "TEST_SIZE": 0.2
   },
   "start_time": "2023-12-13T23:03:40.449482",
   "version": "2.5.0"
  }
 },
 "nbformat": 4,
 "nbformat_minor": 5
}