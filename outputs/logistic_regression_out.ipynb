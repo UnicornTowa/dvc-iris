{
 "cells": [
  {
   "cell_type": "code",
   "execution_count": 1,
   "id": "c7f08bec",
   "metadata": {
    "execution": {
     "iopub.execute_input": "2023-12-13T23:03:34.173044Z",
     "iopub.status.busy": "2023-12-13T23:03:34.173044Z",
     "iopub.status.idle": "2023-12-13T23:03:34.834877Z",
     "shell.execute_reply": "2023-12-13T23:03:34.834877Z"
    },
    "papermill": {
     "duration": 0.661833,
     "end_time": "2023-12-13T23:03:34.834877",
     "exception": false,
     "start_time": "2023-12-13T23:03:34.173044",
     "status": "completed"
    },
    "tags": []
   },
   "outputs": [],
   "source": [
    "import pandas as pd\n",
    "import numpy as np\n",
    "import yaml"
   ]
  },
  {
   "cell_type": "code",
   "execution_count": 2,
   "id": "16d28155",
   "metadata": {
    "execution": {
     "iopub.execute_input": "2023-12-13T23:03:34.841392Z",
     "iopub.status.busy": "2023-12-13T23:03:34.841392Z",
     "iopub.status.idle": "2023-12-13T23:03:34.853451Z",
     "shell.execute_reply": "2023-12-13T23:03:34.853451Z"
    },
    "papermill": {
     "duration": 0.012059,
     "end_time": "2023-12-13T23:03:34.853451",
     "exception": false,
     "start_time": "2023-12-13T23:03:34.841392",
     "status": "completed"
    },
    "tags": [
     "parameters"
    ]
   },
   "outputs": [],
   "source": [
    "SEED: int = 666\n",
    "TEST_SIZE: float = 0.2\n",
    "PENALTY: str = 'l2'\n",
    "C: float = 1.0\n",
    "MULTI_CLASS: str = 'multinomial'\n",
    "DATA: str = 'data.csv'"
   ]
  },
  {
   "cell_type": "code",
   "execution_count": 3,
   "id": "64ba8d5a",
   "metadata": {
    "execution": {
     "iopub.execute_input": "2023-12-13T23:03:34.857529Z",
     "iopub.status.busy": "2023-12-13T23:03:34.857529Z",
     "iopub.status.idle": "2023-12-13T23:03:34.870685Z",
     "shell.execute_reply": "2023-12-13T23:03:34.870685Z"
    },
    "papermill": {
     "duration": 0.01574,
     "end_time": "2023-12-13T23:03:34.873269",
     "exception": false,
     "start_time": "2023-12-13T23:03:34.857529",
     "status": "completed"
    },
    "tags": [
     "injected-parameters"
    ]
   },
   "outputs": [],
   "source": [
    "# Parameters\n",
    "SEED = 666\n",
    "DATA = \"data.csv\"\n",
    "TEST_SIZE = 0.2\n",
    "PENALTY = \"l2\"\n",
    "C = 1.0\n",
    "MULTI_CLASS = \"multinomial\"\n"
   ]
  },
  {
   "cell_type": "code",
   "execution_count": 4,
   "id": "2b327cb8",
   "metadata": {
    "execution": {
     "iopub.execute_input": "2023-12-13T23:03:34.881563Z",
     "iopub.status.busy": "2023-12-13T23:03:34.881563Z",
     "iopub.status.idle": "2023-12-13T23:03:34.915038Z",
     "shell.execute_reply": "2023-12-13T23:03:34.915038Z"
    },
    "papermill": {
     "duration": 0.040099,
     "end_time": "2023-12-13T23:03:34.917643",
     "exception": false,
     "start_time": "2023-12-13T23:03:34.877544",
     "status": "completed"
    },
    "tags": []
   },
   "outputs": [
    {
     "data": {
      "text/html": [
       "<div>\n",
       "<style scoped>\n",
       "    .dataframe tbody tr th:only-of-type {\n",
       "        vertical-align: middle;\n",
       "    }\n",
       "\n",
       "    .dataframe tbody tr th {\n",
       "        vertical-align: top;\n",
       "    }\n",
       "\n",
       "    .dataframe thead th {\n",
       "        text-align: right;\n",
       "    }\n",
       "</style>\n",
       "<table border=\"1\" class=\"dataframe\">\n",
       "  <thead>\n",
       "    <tr style=\"text-align: right;\">\n",
       "      <th></th>\n",
       "      <th>target</th>\n",
       "      <th>sepal length (cm)</th>\n",
       "      <th>sepal width (cm)</th>\n",
       "      <th>petal length (cm)</th>\n",
       "      <th>petal width (cm)</th>\n",
       "    </tr>\n",
       "  </thead>\n",
       "  <tbody>\n",
       "    <tr>\n",
       "      <th>0</th>\n",
       "      <td>setosa</td>\n",
       "      <td>5.1</td>\n",
       "      <td>3.5</td>\n",
       "      <td>1.4</td>\n",
       "      <td>0.2</td>\n",
       "    </tr>\n",
       "    <tr>\n",
       "      <th>1</th>\n",
       "      <td>setosa</td>\n",
       "      <td>4.9</td>\n",
       "      <td>3.0</td>\n",
       "      <td>1.4</td>\n",
       "      <td>0.2</td>\n",
       "    </tr>\n",
       "    <tr>\n",
       "      <th>2</th>\n",
       "      <td>setosa</td>\n",
       "      <td>4.7</td>\n",
       "      <td>3.2</td>\n",
       "      <td>1.3</td>\n",
       "      <td>0.2</td>\n",
       "    </tr>\n",
       "    <tr>\n",
       "      <th>3</th>\n",
       "      <td>setosa</td>\n",
       "      <td>4.6</td>\n",
       "      <td>3.1</td>\n",
       "      <td>1.5</td>\n",
       "      <td>0.2</td>\n",
       "    </tr>\n",
       "    <tr>\n",
       "      <th>4</th>\n",
       "      <td>setosa</td>\n",
       "      <td>5.0</td>\n",
       "      <td>3.6</td>\n",
       "      <td>1.4</td>\n",
       "      <td>0.2</td>\n",
       "    </tr>\n",
       "    <tr>\n",
       "      <th>...</th>\n",
       "      <td>...</td>\n",
       "      <td>...</td>\n",
       "      <td>...</td>\n",
       "      <td>...</td>\n",
       "      <td>...</td>\n",
       "    </tr>\n",
       "    <tr>\n",
       "      <th>145</th>\n",
       "      <td>virginica</td>\n",
       "      <td>6.7</td>\n",
       "      <td>3.0</td>\n",
       "      <td>5.2</td>\n",
       "      <td>2.3</td>\n",
       "    </tr>\n",
       "    <tr>\n",
       "      <th>146</th>\n",
       "      <td>virginica</td>\n",
       "      <td>6.3</td>\n",
       "      <td>2.5</td>\n",
       "      <td>5.0</td>\n",
       "      <td>1.9</td>\n",
       "    </tr>\n",
       "    <tr>\n",
       "      <th>147</th>\n",
       "      <td>virginica</td>\n",
       "      <td>6.5</td>\n",
       "      <td>3.0</td>\n",
       "      <td>5.2</td>\n",
       "      <td>2.0</td>\n",
       "    </tr>\n",
       "    <tr>\n",
       "      <th>148</th>\n",
       "      <td>virginica</td>\n",
       "      <td>6.2</td>\n",
       "      <td>3.4</td>\n",
       "      <td>5.4</td>\n",
       "      <td>2.3</td>\n",
       "    </tr>\n",
       "    <tr>\n",
       "      <th>149</th>\n",
       "      <td>virginica</td>\n",
       "      <td>5.9</td>\n",
       "      <td>3.0</td>\n",
       "      <td>5.1</td>\n",
       "      <td>1.8</td>\n",
       "    </tr>\n",
       "  </tbody>\n",
       "</table>\n",
       "<p>150 rows × 5 columns</p>\n",
       "</div>"
      ],
      "text/plain": [
       "        target  sepal length (cm)  sepal width (cm)  petal length (cm)  \\\n",
       "0       setosa                5.1               3.5                1.4   \n",
       "1       setosa                4.9               3.0                1.4   \n",
       "2       setosa                4.7               3.2                1.3   \n",
       "3       setosa                4.6               3.1                1.5   \n",
       "4       setosa                5.0               3.6                1.4   \n",
       "..         ...                ...               ...                ...   \n",
       "145  virginica                6.7               3.0                5.2   \n",
       "146  virginica                6.3               2.5                5.0   \n",
       "147  virginica                6.5               3.0                5.2   \n",
       "148  virginica                6.2               3.4                5.4   \n",
       "149  virginica                5.9               3.0                5.1   \n",
       "\n",
       "     petal width (cm)  \n",
       "0                 0.2  \n",
       "1                 0.2  \n",
       "2                 0.2  \n",
       "3                 0.2  \n",
       "4                 0.2  \n",
       "..                ...  \n",
       "145               2.3  \n",
       "146               1.9  \n",
       "147               2.0  \n",
       "148               2.3  \n",
       "149               1.8  \n",
       "\n",
       "[150 rows x 5 columns]"
      ]
     },
     "execution_count": 4,
     "metadata": {},
     "output_type": "execute_result"
    }
   ],
   "source": [
    "df = pd.read_csv(DATA, index_col=0)\n",
    "df"
   ]
  },
  {
   "cell_type": "code",
   "execution_count": 5,
   "id": "f710a8df",
   "metadata": {
    "execution": {
     "iopub.execute_input": "2023-12-13T23:03:34.919732Z",
     "iopub.status.busy": "2023-12-13T23:03:34.919732Z",
     "iopub.status.idle": "2023-12-13T23:03:34.933890Z",
     "shell.execute_reply": "2023-12-13T23:03:34.933890Z"
    },
    "papermill": {
     "duration": 0.015738,
     "end_time": "2023-12-13T23:03:34.935470",
     "exception": false,
     "start_time": "2023-12-13T23:03:34.919732",
     "status": "completed"
    },
    "tags": []
   },
   "outputs": [],
   "source": [
    "target = 'target'\n",
    "features = list(df.columns)\n",
    "features.remove(target)\n",
    "X = df[features]\n",
    "y = df[target]"
   ]
  },
  {
   "cell_type": "code",
   "execution_count": 6,
   "id": "6f775c2b",
   "metadata": {
    "execution": {
     "iopub.execute_input": "2023-12-13T23:03:34.935470Z",
     "iopub.status.busy": "2023-12-13T23:03:34.935470Z",
     "iopub.status.idle": "2023-12-13T23:03:35.732833Z",
     "shell.execute_reply": "2023-12-13T23:03:35.732833Z"
    },
    "papermill": {
     "duration": 0.797363,
     "end_time": "2023-12-13T23:03:35.732833",
     "exception": false,
     "start_time": "2023-12-13T23:03:34.935470",
     "status": "completed"
    },
    "tags": []
   },
   "outputs": [
    {
     "data": {
      "text/plain": [
       "array(['setosa', 'versicolor', 'virginica'], dtype=object)"
      ]
     },
     "execution_count": 6,
     "metadata": {},
     "output_type": "execute_result"
    }
   ],
   "source": [
    "from sklearn.preprocessing import LabelEncoder\n",
    "\n",
    "le = LabelEncoder()\n",
    "le.fit(y)\n",
    "y = le.fit_transform(y)\n",
    "\n",
    "le.classes_"
   ]
  },
  {
   "cell_type": "code",
   "execution_count": 7,
   "id": "1161e7a1",
   "metadata": {
    "execution": {
     "iopub.execute_input": "2023-12-13T23:03:35.732833Z",
     "iopub.status.busy": "2023-12-13T23:03:35.732833Z",
     "iopub.status.idle": "2023-12-13T23:03:35.810380Z",
     "shell.execute_reply": "2023-12-13T23:03:35.810380Z"
    },
    "papermill": {
     "duration": 0.077547,
     "end_time": "2023-12-13T23:03:35.810380",
     "exception": false,
     "start_time": "2023-12-13T23:03:35.732833",
     "status": "completed"
    },
    "tags": []
   },
   "outputs": [],
   "source": [
    "from sklearn.model_selection import train_test_split\n",
    "\n",
    "X_train, X_test, y_train, y_test = train_test_split(\n",
    "    X, y, test_size=TEST_SIZE, random_state=SEED)"
   ]
  },
  {
   "cell_type": "code",
   "execution_count": 8,
   "id": "29f99108",
   "metadata": {
    "execution": {
     "iopub.execute_input": "2023-12-13T23:03:35.819986Z",
     "iopub.status.busy": "2023-12-13T23:03:35.819986Z",
     "iopub.status.idle": "2023-12-13T23:03:35.832665Z",
     "shell.execute_reply": "2023-12-13T23:03:35.832665Z"
    },
    "papermill": {
     "duration": 0.022285,
     "end_time": "2023-12-13T23:03:35.832665",
     "exception": false,
     "start_time": "2023-12-13T23:03:35.810380",
     "status": "completed"
    },
    "tags": []
   },
   "outputs": [],
   "source": [
    "from sklearn.preprocessing import StandardScaler\n",
    "\n",
    "sc = StandardScaler()\n",
    "sc.fit(X_train)\n",
    "X_train_std = sc.transform(X_train)\n",
    "X_test_std = sc.transform(X_test)"
   ]
  },
  {
   "cell_type": "code",
   "execution_count": 9,
   "id": "000c1cfc",
   "metadata": {
    "execution": {
     "iopub.execute_input": "2023-12-13T23:03:35.835744Z",
     "iopub.status.busy": "2023-12-13T23:03:35.835744Z",
     "iopub.status.idle": "2023-12-13T23:03:35.917449Z",
     "shell.execute_reply": "2023-12-13T23:03:35.917449Z"
    },
    "papermill": {
     "duration": 0.084303,
     "end_time": "2023-12-13T23:03:35.920047",
     "exception": false,
     "start_time": "2023-12-13T23:03:35.835744",
     "status": "completed"
    },
    "tags": []
   },
   "outputs": [
    {
     "data": {
      "text/html": [
       "<style>#sk-container-id-1 {color: black;}#sk-container-id-1 pre{padding: 0;}#sk-container-id-1 div.sk-toggleable {background-color: white;}#sk-container-id-1 label.sk-toggleable__label {cursor: pointer;display: block;width: 100%;margin-bottom: 0;padding: 0.3em;box-sizing: border-box;text-align: center;}#sk-container-id-1 label.sk-toggleable__label-arrow:before {content: \"▸\";float: left;margin-right: 0.25em;color: #696969;}#sk-container-id-1 label.sk-toggleable__label-arrow:hover:before {color: black;}#sk-container-id-1 div.sk-estimator:hover label.sk-toggleable__label-arrow:before {color: black;}#sk-container-id-1 div.sk-toggleable__content {max-height: 0;max-width: 0;overflow: hidden;text-align: left;background-color: #f0f8ff;}#sk-container-id-1 div.sk-toggleable__content pre {margin: 0.2em;color: black;border-radius: 0.25em;background-color: #f0f8ff;}#sk-container-id-1 input.sk-toggleable__control:checked~div.sk-toggleable__content {max-height: 200px;max-width: 100%;overflow: auto;}#sk-container-id-1 input.sk-toggleable__control:checked~label.sk-toggleable__label-arrow:before {content: \"▾\";}#sk-container-id-1 div.sk-estimator input.sk-toggleable__control:checked~label.sk-toggleable__label {background-color: #d4ebff;}#sk-container-id-1 div.sk-label input.sk-toggleable__control:checked~label.sk-toggleable__label {background-color: #d4ebff;}#sk-container-id-1 input.sk-hidden--visually {border: 0;clip: rect(1px 1px 1px 1px);clip: rect(1px, 1px, 1px, 1px);height: 1px;margin: -1px;overflow: hidden;padding: 0;position: absolute;width: 1px;}#sk-container-id-1 div.sk-estimator {font-family: monospace;background-color: #f0f8ff;border: 1px dotted black;border-radius: 0.25em;box-sizing: border-box;margin-bottom: 0.5em;}#sk-container-id-1 div.sk-estimator:hover {background-color: #d4ebff;}#sk-container-id-1 div.sk-parallel-item::after {content: \"\";width: 100%;border-bottom: 1px solid gray;flex-grow: 1;}#sk-container-id-1 div.sk-label:hover label.sk-toggleable__label {background-color: #d4ebff;}#sk-container-id-1 div.sk-serial::before {content: \"\";position: absolute;border-left: 1px solid gray;box-sizing: border-box;top: 0;bottom: 0;left: 50%;z-index: 0;}#sk-container-id-1 div.sk-serial {display: flex;flex-direction: column;align-items: center;background-color: white;padding-right: 0.2em;padding-left: 0.2em;position: relative;}#sk-container-id-1 div.sk-item {position: relative;z-index: 1;}#sk-container-id-1 div.sk-parallel {display: flex;align-items: stretch;justify-content: center;background-color: white;position: relative;}#sk-container-id-1 div.sk-item::before, #sk-container-id-1 div.sk-parallel-item::before {content: \"\";position: absolute;border-left: 1px solid gray;box-sizing: border-box;top: 0;bottom: 0;left: 50%;z-index: -1;}#sk-container-id-1 div.sk-parallel-item {display: flex;flex-direction: column;z-index: 1;position: relative;background-color: white;}#sk-container-id-1 div.sk-parallel-item:first-child::after {align-self: flex-end;width: 50%;}#sk-container-id-1 div.sk-parallel-item:last-child::after {align-self: flex-start;width: 50%;}#sk-container-id-1 div.sk-parallel-item:only-child::after {width: 0;}#sk-container-id-1 div.sk-dashed-wrapped {border: 1px dashed gray;margin: 0 0.4em 0.5em 0.4em;box-sizing: border-box;padding-bottom: 0.4em;background-color: white;}#sk-container-id-1 div.sk-label label {font-family: monospace;font-weight: bold;display: inline-block;line-height: 1.2em;}#sk-container-id-1 div.sk-label-container {text-align: center;}#sk-container-id-1 div.sk-container {/* jupyter's `normalize.less` sets `[hidden] { display: none; }` but bootstrap.min.css set `[hidden] { display: none !important; }` so we also need the `!important` here to be able to override the default hidden behavior on the sphinx rendered scikit-learn.org. See: https://github.com/scikit-learn/scikit-learn/issues/21755 */display: inline-block !important;position: relative;}#sk-container-id-1 div.sk-text-repr-fallback {display: none;}</style><div id=\"sk-container-id-1\" class=\"sk-top-container\"><div class=\"sk-text-repr-fallback\"><pre>LogisticRegression(multi_class=&#x27;multinomial&#x27;, random_state=666)</pre><b>In a Jupyter environment, please rerun this cell to show the HTML representation or trust the notebook. <br />On GitHub, the HTML representation is unable to render, please try loading this page with nbviewer.org.</b></div><div class=\"sk-container\" hidden><div class=\"sk-item\"><div class=\"sk-estimator sk-toggleable\"><input class=\"sk-toggleable__control sk-hidden--visually\" id=\"sk-estimator-id-1\" type=\"checkbox\" checked><label for=\"sk-estimator-id-1\" class=\"sk-toggleable__label sk-toggleable__label-arrow\">LogisticRegression</label><div class=\"sk-toggleable__content\"><pre>LogisticRegression(multi_class=&#x27;multinomial&#x27;, random_state=666)</pre></div></div></div></div></div>"
      ],
      "text/plain": [
       "LogisticRegression(multi_class='multinomial', random_state=666)"
      ]
     },
     "execution_count": 9,
     "metadata": {},
     "output_type": "execute_result"
    }
   ],
   "source": [
    "from sklearn.linear_model import LogisticRegression\n",
    "\n",
    "lr = LogisticRegression(C=C, random_state=SEED, penalty=PENALTY, multi_class=MULTI_CLASS)\n",
    "lr.fit(X_train_std, y_train)"
   ]
  },
  {
   "cell_type": "code",
   "execution_count": 10,
   "id": "ad213cb8",
   "metadata": {
    "execution": {
     "iopub.execute_input": "2023-12-13T23:03:35.920047Z",
     "iopub.status.busy": "2023-12-13T23:03:35.920047Z",
     "iopub.status.idle": "2023-12-13T23:03:35.938368Z",
     "shell.execute_reply": "2023-12-13T23:03:35.938368Z"
    },
    "papermill": {
     "duration": 0.018321,
     "end_time": "2023-12-13T23:03:35.938368",
     "exception": false,
     "start_time": "2023-12-13T23:03:35.920047",
     "status": "completed"
    },
    "tags": []
   },
   "outputs": [
    {
     "data": {
      "text/plain": [
       "array([1, 2, 1, 2, 0, 1, 1, 2, 1, 1, 1, 0, 0, 0, 2, 1, 0, 2, 2, 2, 1, 0,\n",
       "       2, 0, 1, 1, 0, 1, 2, 2])"
      ]
     },
     "execution_count": 10,
     "metadata": {},
     "output_type": "execute_result"
    }
   ],
   "source": [
    "preds = lr.predict(X_test_std)\n",
    "preds"
   ]
  },
  {
   "cell_type": "code",
   "execution_count": 11,
   "id": "20abf095",
   "metadata": {
    "execution": {
     "iopub.execute_input": "2023-12-13T23:03:35.951954Z",
     "iopub.status.busy": "2023-12-13T23:03:35.951954Z",
     "iopub.status.idle": "2023-12-13T23:03:35.958421Z",
     "shell.execute_reply": "2023-12-13T23:03:35.958421Z"
    },
    "papermill": {
     "duration": 0.020053,
     "end_time": "2023-12-13T23:03:35.958421",
     "exception": false,
     "start_time": "2023-12-13T23:03:35.938368",
     "status": "completed"
    },
    "tags": []
   },
   "outputs": [
    {
     "data": {
      "text/plain": [
       "array([1, 2, 1, 2, 0, 1, 1, 2, 1, 1, 1, 0, 0, 0, 2, 1, 0, 2, 2, 2, 1, 0,\n",
       "       2, 0, 1, 1, 0, 1, 2, 2])"
      ]
     },
     "execution_count": 11,
     "metadata": {},
     "output_type": "execute_result"
    }
   ],
   "source": [
    "y_test"
   ]
  },
  {
   "cell_type": "code",
   "execution_count": 12,
   "id": "290e13f7",
   "metadata": {
    "execution": {
     "iopub.execute_input": "2023-12-13T23:03:35.968001Z",
     "iopub.status.busy": "2023-12-13T23:03:35.968001Z",
     "iopub.status.idle": "2023-12-13T23:03:35.986022Z",
     "shell.execute_reply": "2023-12-13T23:03:35.984943Z"
    },
    "papermill": {
     "duration": 0.028183,
     "end_time": "2023-12-13T23:03:35.986604",
     "exception": false,
     "start_time": "2023-12-13T23:03:35.958421",
     "status": "completed"
    },
    "tags": []
   },
   "outputs": [],
   "source": [
    "from sklearn.metrics import accuracy_score, precision_score, recall_score, f1_score, confusion_matrix\n",
    "\n",
    "accuracy = accuracy_score(y_test, preds)\n",
    "precision = precision_score(y_test, preds, average='micro')\n",
    "recall = recall_score(y_test, preds, average='micro')\n",
    "f1 = f1_score(y_test, preds, average='micro')"
   ]
  },
  {
   "cell_type": "code",
   "execution_count": 13,
   "id": "631200f4",
   "metadata": {
    "execution": {
     "iopub.execute_input": "2023-12-13T23:03:36.000924Z",
     "iopub.status.busy": "2023-12-13T23:03:36.000924Z",
     "iopub.status.idle": "2023-12-13T23:03:36.007469Z",
     "shell.execute_reply": "2023-12-13T23:03:36.007469Z"
    },
    "papermill": {
     "duration": 0.016932,
     "end_time": "2023-12-13T23:03:36.007469",
     "exception": false,
     "start_time": "2023-12-13T23:03:35.990537",
     "status": "completed"
    },
    "tags": []
   },
   "outputs": [],
   "source": [
    "metrics = {}\n",
    "\n",
    "metrics['accuracy lr'] = float(accuracy)\n",
    "metrics['presicion lr'] = float(precision)\n",
    "metrics['recall lr'] = float(recall)\n",
    "metrics['f1 lr'] = float(f1)\n",
    "\n",
    "with open('./outputs/metrics_lr.yaml', 'w') as file:\n",
    "    yaml.dump(metrics, file, default_flow_style=False)"
   ]
  },
  {
   "cell_type": "code",
   "execution_count": 14,
   "id": "d059f14b",
   "metadata": {
    "execution": {
     "iopub.execute_input": "2023-12-13T23:03:36.022661Z",
     "iopub.status.busy": "2023-12-13T23:03:36.022661Z",
     "iopub.status.idle": "2023-12-13T23:03:36.027792Z",
     "shell.execute_reply": "2023-12-13T23:03:36.027792Z"
    },
    "papermill": {
     "duration": 0.020323,
     "end_time": "2023-12-13T23:03:36.027792",
     "exception": false,
     "start_time": "2023-12-13T23:03:36.007469",
     "status": "completed"
    },
    "tags": []
   },
   "outputs": [
    {
     "data": {
      "text/plain": [
       "{'accuracy lr': 1.0, 'presicion lr': 1.0, 'recall lr': 1.0, 'f1 lr': 1.0}"
      ]
     },
     "execution_count": 14,
     "metadata": {},
     "output_type": "execute_result"
    }
   ],
   "source": [
    "metrics"
   ]
  },
  {
   "cell_type": "code",
   "execution_count": 15,
   "id": "5e8ed3ea",
   "metadata": {
    "execution": {
     "iopub.execute_input": "2023-12-13T23:03:36.038369Z",
     "iopub.status.busy": "2023-12-13T23:03:36.038369Z",
     "iopub.status.idle": "2023-12-13T23:03:36.055689Z",
     "shell.execute_reply": "2023-12-13T23:03:36.055689Z"
    },
    "papermill": {
     "duration": 0.027897,
     "end_time": "2023-12-13T23:03:36.055689",
     "exception": false,
     "start_time": "2023-12-13T23:03:36.027792",
     "status": "completed"
    },
    "tags": []
   },
   "outputs": [
    {
     "data": {
      "text/html": [
       "<div>\n",
       "<style scoped>\n",
       "    .dataframe tbody tr th:only-of-type {\n",
       "        vertical-align: middle;\n",
       "    }\n",
       "\n",
       "    .dataframe tbody tr th {\n",
       "        vertical-align: top;\n",
       "    }\n",
       "\n",
       "    .dataframe thead th {\n",
       "        text-align: right;\n",
       "    }\n",
       "</style>\n",
       "<table border=\"1\" class=\"dataframe\">\n",
       "  <thead>\n",
       "    <tr style=\"text-align: right;\">\n",
       "      <th></th>\n",
       "      <th>actual_class</th>\n",
       "      <th>predicted_class</th>\n",
       "    </tr>\n",
       "  </thead>\n",
       "  <tbody>\n",
       "    <tr>\n",
       "      <th>0</th>\n",
       "      <td>versicolor</td>\n",
       "      <td>versicolor</td>\n",
       "    </tr>\n",
       "    <tr>\n",
       "      <th>1</th>\n",
       "      <td>virginica</td>\n",
       "      <td>virginica</td>\n",
       "    </tr>\n",
       "    <tr>\n",
       "      <th>2</th>\n",
       "      <td>versicolor</td>\n",
       "      <td>versicolor</td>\n",
       "    </tr>\n",
       "    <tr>\n",
       "      <th>3</th>\n",
       "      <td>virginica</td>\n",
       "      <td>virginica</td>\n",
       "    </tr>\n",
       "    <tr>\n",
       "      <th>4</th>\n",
       "      <td>setosa</td>\n",
       "      <td>setosa</td>\n",
       "    </tr>\n",
       "    <tr>\n",
       "      <th>5</th>\n",
       "      <td>versicolor</td>\n",
       "      <td>versicolor</td>\n",
       "    </tr>\n",
       "    <tr>\n",
       "      <th>6</th>\n",
       "      <td>versicolor</td>\n",
       "      <td>versicolor</td>\n",
       "    </tr>\n",
       "    <tr>\n",
       "      <th>7</th>\n",
       "      <td>virginica</td>\n",
       "      <td>virginica</td>\n",
       "    </tr>\n",
       "    <tr>\n",
       "      <th>8</th>\n",
       "      <td>versicolor</td>\n",
       "      <td>versicolor</td>\n",
       "    </tr>\n",
       "    <tr>\n",
       "      <th>9</th>\n",
       "      <td>versicolor</td>\n",
       "      <td>versicolor</td>\n",
       "    </tr>\n",
       "    <tr>\n",
       "      <th>10</th>\n",
       "      <td>versicolor</td>\n",
       "      <td>versicolor</td>\n",
       "    </tr>\n",
       "    <tr>\n",
       "      <th>11</th>\n",
       "      <td>setosa</td>\n",
       "      <td>setosa</td>\n",
       "    </tr>\n",
       "    <tr>\n",
       "      <th>12</th>\n",
       "      <td>setosa</td>\n",
       "      <td>setosa</td>\n",
       "    </tr>\n",
       "    <tr>\n",
       "      <th>13</th>\n",
       "      <td>setosa</td>\n",
       "      <td>setosa</td>\n",
       "    </tr>\n",
       "    <tr>\n",
       "      <th>14</th>\n",
       "      <td>virginica</td>\n",
       "      <td>virginica</td>\n",
       "    </tr>\n",
       "    <tr>\n",
       "      <th>15</th>\n",
       "      <td>versicolor</td>\n",
       "      <td>versicolor</td>\n",
       "    </tr>\n",
       "    <tr>\n",
       "      <th>16</th>\n",
       "      <td>setosa</td>\n",
       "      <td>setosa</td>\n",
       "    </tr>\n",
       "    <tr>\n",
       "      <th>17</th>\n",
       "      <td>virginica</td>\n",
       "      <td>virginica</td>\n",
       "    </tr>\n",
       "    <tr>\n",
       "      <th>18</th>\n",
       "      <td>virginica</td>\n",
       "      <td>virginica</td>\n",
       "    </tr>\n",
       "    <tr>\n",
       "      <th>19</th>\n",
       "      <td>virginica</td>\n",
       "      <td>virginica</td>\n",
       "    </tr>\n",
       "    <tr>\n",
       "      <th>20</th>\n",
       "      <td>versicolor</td>\n",
       "      <td>versicolor</td>\n",
       "    </tr>\n",
       "    <tr>\n",
       "      <th>21</th>\n",
       "      <td>setosa</td>\n",
       "      <td>setosa</td>\n",
       "    </tr>\n",
       "    <tr>\n",
       "      <th>22</th>\n",
       "      <td>virginica</td>\n",
       "      <td>virginica</td>\n",
       "    </tr>\n",
       "    <tr>\n",
       "      <th>23</th>\n",
       "      <td>setosa</td>\n",
       "      <td>setosa</td>\n",
       "    </tr>\n",
       "    <tr>\n",
       "      <th>24</th>\n",
       "      <td>versicolor</td>\n",
       "      <td>versicolor</td>\n",
       "    </tr>\n",
       "    <tr>\n",
       "      <th>25</th>\n",
       "      <td>versicolor</td>\n",
       "      <td>versicolor</td>\n",
       "    </tr>\n",
       "    <tr>\n",
       "      <th>26</th>\n",
       "      <td>setosa</td>\n",
       "      <td>setosa</td>\n",
       "    </tr>\n",
       "    <tr>\n",
       "      <th>27</th>\n",
       "      <td>versicolor</td>\n",
       "      <td>versicolor</td>\n",
       "    </tr>\n",
       "    <tr>\n",
       "      <th>28</th>\n",
       "      <td>virginica</td>\n",
       "      <td>virginica</td>\n",
       "    </tr>\n",
       "    <tr>\n",
       "      <th>29</th>\n",
       "      <td>virginica</td>\n",
       "      <td>virginica</td>\n",
       "    </tr>\n",
       "  </tbody>\n",
       "</table>\n",
       "</div>"
      ],
      "text/plain": [
       "   actual_class predicted_class\n",
       "0    versicolor      versicolor\n",
       "1     virginica       virginica\n",
       "2    versicolor      versicolor\n",
       "3     virginica       virginica\n",
       "4        setosa          setosa\n",
       "5    versicolor      versicolor\n",
       "6    versicolor      versicolor\n",
       "7     virginica       virginica\n",
       "8    versicolor      versicolor\n",
       "9    versicolor      versicolor\n",
       "10   versicolor      versicolor\n",
       "11       setosa          setosa\n",
       "12       setosa          setosa\n",
       "13       setosa          setosa\n",
       "14    virginica       virginica\n",
       "15   versicolor      versicolor\n",
       "16       setosa          setosa\n",
       "17    virginica       virginica\n",
       "18    virginica       virginica\n",
       "19    virginica       virginica\n",
       "20   versicolor      versicolor\n",
       "21       setosa          setosa\n",
       "22    virginica       virginica\n",
       "23       setosa          setosa\n",
       "24   versicolor      versicolor\n",
       "25   versicolor      versicolor\n",
       "26       setosa          setosa\n",
       "27   versicolor      versicolor\n",
       "28    virginica       virginica\n",
       "29    virginica       virginica"
      ]
     },
     "execution_count": 15,
     "metadata": {},
     "output_type": "execute_result"
    }
   ],
   "source": [
    "test_classes = pd.DataFrame()\n",
    "\n",
    "test_classes['actual_class'] = le.inverse_transform(y_test)\n",
    "test_classes['predicted_class'] = le.inverse_transform(preds)\n",
    "test_classes"
   ]
  },
  {
   "cell_type": "code",
   "execution_count": 16,
   "id": "db65b52a",
   "metadata": {
    "execution": {
     "iopub.execute_input": "2023-12-13T23:03:36.070267Z",
     "iopub.status.busy": "2023-12-13T23:03:36.070267Z",
     "iopub.status.idle": "2023-12-13T23:03:36.084753Z",
     "shell.execute_reply": "2023-12-13T23:03:36.084753Z"
    },
    "papermill": {
     "duration": 0.030644,
     "end_time": "2023-12-13T23:03:36.086333",
     "exception": false,
     "start_time": "2023-12-13T23:03:36.055689",
     "status": "completed"
    },
    "tags": []
   },
   "outputs": [
    {
     "data": {
      "text/html": [
       "<div>\n",
       "<style scoped>\n",
       "    .dataframe tbody tr th:only-of-type {\n",
       "        vertical-align: middle;\n",
       "    }\n",
       "\n",
       "    .dataframe tbody tr th {\n",
       "        vertical-align: top;\n",
       "    }\n",
       "\n",
       "    .dataframe thead th {\n",
       "        text-align: right;\n",
       "    }\n",
       "</style>\n",
       "<table border=\"1\" class=\"dataframe\">\n",
       "  <thead>\n",
       "    <tr style=\"text-align: right;\">\n",
       "      <th></th>\n",
       "      <th>actual_class</th>\n",
       "      <th>predicted_class</th>\n",
       "    </tr>\n",
       "  </thead>\n",
       "  <tbody>\n",
       "    <tr>\n",
       "      <th>0</th>\n",
       "      <td>setosa</td>\n",
       "      <td>setosa</td>\n",
       "    </tr>\n",
       "    <tr>\n",
       "      <th>1</th>\n",
       "      <td>setosa</td>\n",
       "      <td>setosa</td>\n",
       "    </tr>\n",
       "    <tr>\n",
       "      <th>2</th>\n",
       "      <td>versicolor</td>\n",
       "      <td>versicolor</td>\n",
       "    </tr>\n",
       "    <tr>\n",
       "      <th>3</th>\n",
       "      <td>virginica</td>\n",
       "      <td>virginica</td>\n",
       "    </tr>\n",
       "    <tr>\n",
       "      <th>4</th>\n",
       "      <td>versicolor</td>\n",
       "      <td>versicolor</td>\n",
       "    </tr>\n",
       "    <tr>\n",
       "      <th>...</th>\n",
       "      <td>...</td>\n",
       "      <td>...</td>\n",
       "    </tr>\n",
       "    <tr>\n",
       "      <th>115</th>\n",
       "      <td>versicolor</td>\n",
       "      <td>versicolor</td>\n",
       "    </tr>\n",
       "    <tr>\n",
       "      <th>116</th>\n",
       "      <td>versicolor</td>\n",
       "      <td>versicolor</td>\n",
       "    </tr>\n",
       "    <tr>\n",
       "      <th>117</th>\n",
       "      <td>versicolor</td>\n",
       "      <td>virginica</td>\n",
       "    </tr>\n",
       "    <tr>\n",
       "      <th>118</th>\n",
       "      <td>versicolor</td>\n",
       "      <td>versicolor</td>\n",
       "    </tr>\n",
       "    <tr>\n",
       "      <th>119</th>\n",
       "      <td>virginica</td>\n",
       "      <td>virginica</td>\n",
       "    </tr>\n",
       "  </tbody>\n",
       "</table>\n",
       "<p>120 rows × 2 columns</p>\n",
       "</div>"
      ],
      "text/plain": [
       "    actual_class predicted_class\n",
       "0         setosa          setosa\n",
       "1         setosa          setosa\n",
       "2     versicolor      versicolor\n",
       "3      virginica       virginica\n",
       "4     versicolor      versicolor\n",
       "..           ...             ...\n",
       "115   versicolor      versicolor\n",
       "116   versicolor      versicolor\n",
       "117   versicolor       virginica\n",
       "118   versicolor      versicolor\n",
       "119    virginica       virginica\n",
       "\n",
       "[120 rows x 2 columns]"
      ]
     },
     "execution_count": 16,
     "metadata": {},
     "output_type": "execute_result"
    }
   ],
   "source": [
    "train_classes = pd.DataFrame()\n",
    "\n",
    "train_classes['actual_class'] = le.inverse_transform(y_train)\n",
    "train_classes['predicted_class'] = le.inverse_transform(lr.predict(X_train_std))\n",
    "train_classes"
   ]
  },
  {
   "cell_type": "code",
   "execution_count": 17,
   "id": "e975fc81",
   "metadata": {
    "execution": {
     "iopub.execute_input": "2023-12-13T23:03:36.102043Z",
     "iopub.status.busy": "2023-12-13T23:03:36.086333Z",
     "iopub.status.idle": "2023-12-13T23:03:36.111607Z",
     "shell.execute_reply": "2023-12-13T23:03:36.111607Z"
    },
    "papermill": {
     "duration": 0.025274,
     "end_time": "2023-12-13T23:03:36.111607",
     "exception": false,
     "start_time": "2023-12-13T23:03:36.086333",
     "status": "completed"
    },
    "tags": []
   },
   "outputs": [],
   "source": [
    "test_classes.to_csv('outputs/test_classes_lr.csv', index=False)\n",
    "train_classes.to_csv('outputs/train_classes_lr.csv', index=False)"
   ]
  },
  {
   "cell_type": "code",
   "execution_count": 18,
   "id": "3ce6e10b",
   "metadata": {
    "execution": {
     "iopub.execute_input": "2023-12-13T23:03:36.128111Z",
     "iopub.status.busy": "2023-12-13T23:03:36.128111Z",
     "iopub.status.idle": "2023-12-13T23:03:36.134088Z",
     "shell.execute_reply": "2023-12-13T23:03:36.134088Z"
    },
    "papermill": {
     "duration": 0.013366,
     "end_time": "2023-12-13T23:03:36.134088",
     "exception": false,
     "start_time": "2023-12-13T23:03:36.120722",
     "status": "completed"
    },
    "tags": []
   },
   "outputs": [],
   "source": [
    "import pickle\n",
    "\n",
    "with open('./outputs/model_lr.pckl', 'wb') as file:\n",
    "    pickle.dump(lr, file)"
   ]
  },
  {
   "cell_type": "code",
   "execution_count": null,
   "id": "3ff6b787",
   "metadata": {
    "papermill": {
     "duration": 0.0,
     "end_time": "2023-12-13T23:03:36.143681",
     "exception": false,
     "start_time": "2023-12-13T23:03:36.143681",
     "status": "completed"
    },
    "tags": []
   },
   "outputs": [],
   "source": []
  }
 ],
 "metadata": {
  "kernelspec": {
   "display_name": "Python 3",
   "language": "python",
   "name": "python3"
  },
  "language_info": {
   "codemirror_mode": {
    "name": "ipython",
    "version": 3
   },
   "file_extension": ".py",
   "mimetype": "text/x-python",
   "name": "python",
   "nbconvert_exporter": "python",
   "pygments_lexer": "ipython3",
   "version": "3.11.5"
  },
  "papermill": {
   "default_parameters": {},
   "duration": 5.972883,
   "end_time": "2023-12-13T23:03:36.611235",
   "environment_variables": {},
   "exception": null,
   "input_path": "logistic_regression.ipynb",
   "output_path": "outputs/logistic_regression_out.ipynb",
   "parameters": {
    "C": 1.0,
    "DATA": "data.csv",
    "MULTI_CLASS": "multinomial",
    "PENALTY": "l2",
    "SEED": 666,
    "TEST_SIZE": 0.2
   },
   "start_time": "2023-12-13T23:03:30.638352",
   "version": "2.5.0"
  }
 },
 "nbformat": 4,
 "nbformat_minor": 5
}