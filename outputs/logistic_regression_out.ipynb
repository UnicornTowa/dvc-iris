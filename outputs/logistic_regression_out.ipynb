{
 "cells": [
  {
   "cell_type": "code",
   "execution_count": 1,
   "id": "1af65525",
   "metadata": {
    "execution": {
     "iopub.execute_input": "2023-12-14T00:04:35.783675Z",
     "iopub.status.busy": "2023-12-14T00:04:35.782567Z",
     "iopub.status.idle": "2023-12-14T00:04:36.503745Z",
     "shell.execute_reply": "2023-12-14T00:04:36.502570Z"
    },
    "papermill": {
     "duration": 0.732234,
     "end_time": "2023-12-14T00:04:36.504692",
     "exception": false,
     "start_time": "2023-12-14T00:04:35.772458",
     "status": "completed"
    },
    "tags": []
   },
   "outputs": [],
   "source": [
    "import pandas as pd\n",
    "import numpy as np\n",
    "import yaml"
   ]
  },
  {
   "cell_type": "code",
   "execution_count": 2,
   "id": "c8d0da6b",
   "metadata": {
    "execution": {
     "iopub.execute_input": "2023-12-14T00:04:36.517053Z",
     "iopub.status.busy": "2023-12-14T00:04:36.515730Z",
     "iopub.status.idle": "2023-12-14T00:04:36.521803Z",
     "shell.execute_reply": "2023-12-14T00:04:36.520932Z"
    },
    "papermill": {
     "duration": 0.012249,
     "end_time": "2023-12-14T00:04:36.523045",
     "exception": false,
     "start_time": "2023-12-14T00:04:36.510796",
     "status": "completed"
    },
    "tags": [
     "parameters"
    ]
   },
   "outputs": [],
   "source": [
    "SEED: int = 666\n",
    "TEST_SIZE: float = 0.2\n",
    "PENALTY: str = 'l2'\n",
    "C: float = 1.0\n",
    "MULTI_CLASS: str = 'multinomial'\n",
    "DATA: str = 'data.csv'"
   ]
  },
  {
   "cell_type": "code",
   "execution_count": 3,
   "id": "ccb6bd32",
   "metadata": {
    "execution": {
     "iopub.execute_input": "2023-12-14T00:04:36.535064Z",
     "iopub.status.busy": "2023-12-14T00:04:36.533951Z",
     "iopub.status.idle": "2023-12-14T00:04:36.539954Z",
     "shell.execute_reply": "2023-12-14T00:04:36.539190Z"
    },
    "papermill": {
     "duration": 0.013575,
     "end_time": "2023-12-14T00:04:36.541446",
     "exception": false,
     "start_time": "2023-12-14T00:04:36.527871",
     "status": "completed"
    },
    "tags": [
     "injected-parameters"
    ]
   },
   "outputs": [],
   "source": [
    "# Parameters\n",
    "SEED = 666\n",
    "DATA = \"data.csv\"\n",
    "TEST_SIZE = 0.95\n",
    "PENALTY = \"l2\"\n",
    "C = 1.0\n",
    "MULTI_CLASS = \"multinomial\"\n"
   ]
  },
  {
   "cell_type": "code",
   "execution_count": 4,
   "id": "e961e6fa",
   "metadata": {
    "execution": {
     "iopub.execute_input": "2023-12-14T00:04:36.553451Z",
     "iopub.status.busy": "2023-12-14T00:04:36.553174Z",
     "iopub.status.idle": "2023-12-14T00:04:36.584499Z",
     "shell.execute_reply": "2023-12-14T00:04:36.584499Z"
    },
    "papermill": {
     "duration": 0.037326,
     "end_time": "2023-12-14T00:04:36.584499",
     "exception": false,
     "start_time": "2023-12-14T00:04:36.547173",
     "status": "completed"
    },
    "tags": []
   },
   "outputs": [
    {
     "data": {
      "text/html": [
       "<div>\n",
       "<style scoped>\n",
       "    .dataframe tbody tr th:only-of-type {\n",
       "        vertical-align: middle;\n",
       "    }\n",
       "\n",
       "    .dataframe tbody tr th {\n",
       "        vertical-align: top;\n",
       "    }\n",
       "\n",
       "    .dataframe thead th {\n",
       "        text-align: right;\n",
       "    }\n",
       "</style>\n",
       "<table border=\"1\" class=\"dataframe\">\n",
       "  <thead>\n",
       "    <tr style=\"text-align: right;\">\n",
       "      <th></th>\n",
       "      <th>target</th>\n",
       "      <th>sepal length (cm)</th>\n",
       "      <th>sepal width (cm)</th>\n",
       "      <th>petal length (cm)</th>\n",
       "      <th>petal width (cm)</th>\n",
       "    </tr>\n",
       "  </thead>\n",
       "  <tbody>\n",
       "    <tr>\n",
       "      <th>0</th>\n",
       "      <td>setosa</td>\n",
       "      <td>5.1</td>\n",
       "      <td>3.5</td>\n",
       "      <td>1.4</td>\n",
       "      <td>0.2</td>\n",
       "    </tr>\n",
       "    <tr>\n",
       "      <th>1</th>\n",
       "      <td>setosa</td>\n",
       "      <td>4.9</td>\n",
       "      <td>3.0</td>\n",
       "      <td>1.4</td>\n",
       "      <td>0.2</td>\n",
       "    </tr>\n",
       "    <tr>\n",
       "      <th>2</th>\n",
       "      <td>setosa</td>\n",
       "      <td>4.7</td>\n",
       "      <td>3.2</td>\n",
       "      <td>1.3</td>\n",
       "      <td>0.2</td>\n",
       "    </tr>\n",
       "    <tr>\n",
       "      <th>3</th>\n",
       "      <td>setosa</td>\n",
       "      <td>4.6</td>\n",
       "      <td>3.1</td>\n",
       "      <td>1.5</td>\n",
       "      <td>0.2</td>\n",
       "    </tr>\n",
       "    <tr>\n",
       "      <th>4</th>\n",
       "      <td>setosa</td>\n",
       "      <td>5.0</td>\n",
       "      <td>3.6</td>\n",
       "      <td>1.4</td>\n",
       "      <td>0.2</td>\n",
       "    </tr>\n",
       "    <tr>\n",
       "      <th>...</th>\n",
       "      <td>...</td>\n",
       "      <td>...</td>\n",
       "      <td>...</td>\n",
       "      <td>...</td>\n",
       "      <td>...</td>\n",
       "    </tr>\n",
       "    <tr>\n",
       "      <th>145</th>\n",
       "      <td>virginica</td>\n",
       "      <td>6.7</td>\n",
       "      <td>3.0</td>\n",
       "      <td>5.2</td>\n",
       "      <td>2.3</td>\n",
       "    </tr>\n",
       "    <tr>\n",
       "      <th>146</th>\n",
       "      <td>virginica</td>\n",
       "      <td>6.3</td>\n",
       "      <td>2.5</td>\n",
       "      <td>5.0</td>\n",
       "      <td>1.9</td>\n",
       "    </tr>\n",
       "    <tr>\n",
       "      <th>147</th>\n",
       "      <td>virginica</td>\n",
       "      <td>6.5</td>\n",
       "      <td>3.0</td>\n",
       "      <td>5.2</td>\n",
       "      <td>2.0</td>\n",
       "    </tr>\n",
       "    <tr>\n",
       "      <th>148</th>\n",
       "      <td>virginica</td>\n",
       "      <td>6.2</td>\n",
       "      <td>3.4</td>\n",
       "      <td>5.4</td>\n",
       "      <td>2.3</td>\n",
       "    </tr>\n",
       "    <tr>\n",
       "      <th>149</th>\n",
       "      <td>virginica</td>\n",
       "      <td>5.9</td>\n",
       "      <td>3.0</td>\n",
       "      <td>5.1</td>\n",
       "      <td>1.8</td>\n",
       "    </tr>\n",
       "  </tbody>\n",
       "</table>\n",
       "<p>150 rows × 5 columns</p>\n",
       "</div>"
      ],
      "text/plain": [
       "        target  sepal length (cm)  sepal width (cm)  petal length (cm)  \\\n",
       "0       setosa                5.1               3.5                1.4   \n",
       "1       setosa                4.9               3.0                1.4   \n",
       "2       setosa                4.7               3.2                1.3   \n",
       "3       setosa                4.6               3.1                1.5   \n",
       "4       setosa                5.0               3.6                1.4   \n",
       "..         ...                ...               ...                ...   \n",
       "145  virginica                6.7               3.0                5.2   \n",
       "146  virginica                6.3               2.5                5.0   \n",
       "147  virginica                6.5               3.0                5.2   \n",
       "148  virginica                6.2               3.4                5.4   \n",
       "149  virginica                5.9               3.0                5.1   \n",
       "\n",
       "     petal width (cm)  \n",
       "0                 0.2  \n",
       "1                 0.2  \n",
       "2                 0.2  \n",
       "3                 0.2  \n",
       "4                 0.2  \n",
       "..                ...  \n",
       "145               2.3  \n",
       "146               1.9  \n",
       "147               2.0  \n",
       "148               2.3  \n",
       "149               1.8  \n",
       "\n",
       "[150 rows x 5 columns]"
      ]
     },
     "execution_count": 4,
     "metadata": {},
     "output_type": "execute_result"
    }
   ],
   "source": [
    "df = pd.read_csv(DATA, index_col=0)\n",
    "df"
   ]
  },
  {
   "cell_type": "code",
   "execution_count": 5,
   "id": "435e0386",
   "metadata": {
    "execution": {
     "iopub.execute_input": "2023-12-14T00:04:36.595667Z",
     "iopub.status.busy": "2023-12-14T00:04:36.595667Z",
     "iopub.status.idle": "2023-12-14T00:04:36.604694Z",
     "shell.execute_reply": "2023-12-14T00:04:36.604694Z"
    },
    "papermill": {
     "duration": 0.017936,
     "end_time": "2023-12-14T00:04:36.607684",
     "exception": false,
     "start_time": "2023-12-14T00:04:36.589748",
     "status": "completed"
    },
    "tags": []
   },
   "outputs": [],
   "source": [
    "target = 'target'\n",
    "features = list(df.columns)\n",
    "features.remove(target)\n",
    "X = df[features]\n",
    "y = df[target]"
   ]
  },
  {
   "cell_type": "code",
   "execution_count": 6,
   "id": "7e6d72b0",
   "metadata": {
    "execution": {
     "iopub.execute_input": "2023-12-14T00:04:36.618890Z",
     "iopub.status.busy": "2023-12-14T00:04:36.613779Z",
     "iopub.status.idle": "2023-12-14T00:04:37.482065Z",
     "shell.execute_reply": "2023-12-14T00:04:37.482065Z"
    },
    "papermill": {
     "duration": 0.874284,
     "end_time": "2023-12-14T00:04:37.482065",
     "exception": false,
     "start_time": "2023-12-14T00:04:36.607781",
     "status": "completed"
    },
    "tags": []
   },
   "outputs": [
    {
     "data": {
      "text/plain": [
       "array(['setosa', 'versicolor', 'virginica'], dtype=object)"
      ]
     },
     "execution_count": 6,
     "metadata": {},
     "output_type": "execute_result"
    }
   ],
   "source": [
    "from sklearn.preprocessing import LabelEncoder\n",
    "\n",
    "le = LabelEncoder()\n",
    "le.fit(y)\n",
    "y = le.fit_transform(y)\n",
    "\n",
    "le.classes_"
   ]
  },
  {
   "cell_type": "code",
   "execution_count": 7,
   "id": "f698ed79",
   "metadata": {
    "execution": {
     "iopub.execute_input": "2023-12-14T00:04:37.492586Z",
     "iopub.status.busy": "2023-12-14T00:04:37.492586Z",
     "iopub.status.idle": "2023-12-14T00:04:37.574500Z",
     "shell.execute_reply": "2023-12-14T00:04:37.574500Z"
    },
    "papermill": {
     "duration": 0.090858,
     "end_time": "2023-12-14T00:04:37.577402",
     "exception": false,
     "start_time": "2023-12-14T00:04:37.486544",
     "status": "completed"
    },
    "tags": []
   },
   "outputs": [],
   "source": [
    "from sklearn.model_selection import train_test_split\n",
    "\n",
    "X_train, X_test, y_train, y_test = train_test_split(\n",
    "    X, y, test_size=TEST_SIZE, random_state=SEED)"
   ]
  },
  {
   "cell_type": "code",
   "execution_count": 8,
   "id": "bae5f5c3",
   "metadata": {
    "execution": {
     "iopub.execute_input": "2023-12-14T00:04:37.589776Z",
     "iopub.status.busy": "2023-12-14T00:04:37.589776Z",
     "iopub.status.idle": "2023-12-14T00:04:37.598892Z",
     "shell.execute_reply": "2023-12-14T00:04:37.598892Z"
    },
    "papermill": {
     "duration": 0.016886,
     "end_time": "2023-12-14T00:04:37.600511",
     "exception": false,
     "start_time": "2023-12-14T00:04:37.583625",
     "status": "completed"
    },
    "tags": []
   },
   "outputs": [],
   "source": [
    "from sklearn.preprocessing import StandardScaler\n",
    "\n",
    "sc = StandardScaler()\n",
    "sc.fit(X_train)\n",
    "X_train_std = sc.transform(X_train)\n",
    "X_test_std = sc.transform(X_test)"
   ]
  },
  {
   "cell_type": "code",
   "execution_count": 9,
   "id": "eb6bf38c",
   "metadata": {
    "execution": {
     "iopub.execute_input": "2023-12-14T00:04:37.613839Z",
     "iopub.status.busy": "2023-12-14T00:04:37.612712Z",
     "iopub.status.idle": "2023-12-14T00:04:37.692660Z",
     "shell.execute_reply": "2023-12-14T00:04:37.692213Z"
    },
    "papermill": {
     "duration": 0.086048,
     "end_time": "2023-12-14T00:04:37.692660",
     "exception": false,
     "start_time": "2023-12-14T00:04:37.606612",
     "status": "completed"
    },
    "tags": []
   },
   "outputs": [
    {
     "data": {
      "text/html": [
       "<style>#sk-container-id-1 {color: black;}#sk-container-id-1 pre{padding: 0;}#sk-container-id-1 div.sk-toggleable {background-color: white;}#sk-container-id-1 label.sk-toggleable__label {cursor: pointer;display: block;width: 100%;margin-bottom: 0;padding: 0.3em;box-sizing: border-box;text-align: center;}#sk-container-id-1 label.sk-toggleable__label-arrow:before {content: \"▸\";float: left;margin-right: 0.25em;color: #696969;}#sk-container-id-1 label.sk-toggleable__label-arrow:hover:before {color: black;}#sk-container-id-1 div.sk-estimator:hover label.sk-toggleable__label-arrow:before {color: black;}#sk-container-id-1 div.sk-toggleable__content {max-height: 0;max-width: 0;overflow: hidden;text-align: left;background-color: #f0f8ff;}#sk-container-id-1 div.sk-toggleable__content pre {margin: 0.2em;color: black;border-radius: 0.25em;background-color: #f0f8ff;}#sk-container-id-1 input.sk-toggleable__control:checked~div.sk-toggleable__content {max-height: 200px;max-width: 100%;overflow: auto;}#sk-container-id-1 input.sk-toggleable__control:checked~label.sk-toggleable__label-arrow:before {content: \"▾\";}#sk-container-id-1 div.sk-estimator input.sk-toggleable__control:checked~label.sk-toggleable__label {background-color: #d4ebff;}#sk-container-id-1 div.sk-label input.sk-toggleable__control:checked~label.sk-toggleable__label {background-color: #d4ebff;}#sk-container-id-1 input.sk-hidden--visually {border: 0;clip: rect(1px 1px 1px 1px);clip: rect(1px, 1px, 1px, 1px);height: 1px;margin: -1px;overflow: hidden;padding: 0;position: absolute;width: 1px;}#sk-container-id-1 div.sk-estimator {font-family: monospace;background-color: #f0f8ff;border: 1px dotted black;border-radius: 0.25em;box-sizing: border-box;margin-bottom: 0.5em;}#sk-container-id-1 div.sk-estimator:hover {background-color: #d4ebff;}#sk-container-id-1 div.sk-parallel-item::after {content: \"\";width: 100%;border-bottom: 1px solid gray;flex-grow: 1;}#sk-container-id-1 div.sk-label:hover label.sk-toggleable__label {background-color: #d4ebff;}#sk-container-id-1 div.sk-serial::before {content: \"\";position: absolute;border-left: 1px solid gray;box-sizing: border-box;top: 0;bottom: 0;left: 50%;z-index: 0;}#sk-container-id-1 div.sk-serial {display: flex;flex-direction: column;align-items: center;background-color: white;padding-right: 0.2em;padding-left: 0.2em;position: relative;}#sk-container-id-1 div.sk-item {position: relative;z-index: 1;}#sk-container-id-1 div.sk-parallel {display: flex;align-items: stretch;justify-content: center;background-color: white;position: relative;}#sk-container-id-1 div.sk-item::before, #sk-container-id-1 div.sk-parallel-item::before {content: \"\";position: absolute;border-left: 1px solid gray;box-sizing: border-box;top: 0;bottom: 0;left: 50%;z-index: -1;}#sk-container-id-1 div.sk-parallel-item {display: flex;flex-direction: column;z-index: 1;position: relative;background-color: white;}#sk-container-id-1 div.sk-parallel-item:first-child::after {align-self: flex-end;width: 50%;}#sk-container-id-1 div.sk-parallel-item:last-child::after {align-self: flex-start;width: 50%;}#sk-container-id-1 div.sk-parallel-item:only-child::after {width: 0;}#sk-container-id-1 div.sk-dashed-wrapped {border: 1px dashed gray;margin: 0 0.4em 0.5em 0.4em;box-sizing: border-box;padding-bottom: 0.4em;background-color: white;}#sk-container-id-1 div.sk-label label {font-family: monospace;font-weight: bold;display: inline-block;line-height: 1.2em;}#sk-container-id-1 div.sk-label-container {text-align: center;}#sk-container-id-1 div.sk-container {/* jupyter's `normalize.less` sets `[hidden] { display: none; }` but bootstrap.min.css set `[hidden] { display: none !important; }` so we also need the `!important` here to be able to override the default hidden behavior on the sphinx rendered scikit-learn.org. See: https://github.com/scikit-learn/scikit-learn/issues/21755 */display: inline-block !important;position: relative;}#sk-container-id-1 div.sk-text-repr-fallback {display: none;}</style><div id=\"sk-container-id-1\" class=\"sk-top-container\"><div class=\"sk-text-repr-fallback\"><pre>LogisticRegression(multi_class=&#x27;multinomial&#x27;, random_state=666)</pre><b>In a Jupyter environment, please rerun this cell to show the HTML representation or trust the notebook. <br />On GitHub, the HTML representation is unable to render, please try loading this page with nbviewer.org.</b></div><div class=\"sk-container\" hidden><div class=\"sk-item\"><div class=\"sk-estimator sk-toggleable\"><input class=\"sk-toggleable__control sk-hidden--visually\" id=\"sk-estimator-id-1\" type=\"checkbox\" checked><label for=\"sk-estimator-id-1\" class=\"sk-toggleable__label sk-toggleable__label-arrow\">LogisticRegression</label><div class=\"sk-toggleable__content\"><pre>LogisticRegression(multi_class=&#x27;multinomial&#x27;, random_state=666)</pre></div></div></div></div></div>"
      ],
      "text/plain": [
       "LogisticRegression(multi_class='multinomial', random_state=666)"
      ]
     },
     "execution_count": 9,
     "metadata": {},
     "output_type": "execute_result"
    }
   ],
   "source": [
    "from sklearn.linear_model import LogisticRegression\n",
    "\n",
    "lr = LogisticRegression(C=C, random_state=SEED, penalty=PENALTY, multi_class=MULTI_CLASS)\n",
    "lr.fit(X_train_std, y_train)"
   ]
  },
  {
   "cell_type": "code",
   "execution_count": 10,
   "id": "6763011d",
   "metadata": {
    "execution": {
     "iopub.execute_input": "2023-12-14T00:04:37.704731Z",
     "iopub.status.busy": "2023-12-14T00:04:37.704731Z",
     "iopub.status.idle": "2023-12-14T00:04:37.713181Z",
     "shell.execute_reply": "2023-12-14T00:04:37.713181Z"
    },
    "papermill": {
     "duration": 0.017099,
     "end_time": "2023-12-14T00:04:37.715886",
     "exception": false,
     "start_time": "2023-12-14T00:04:37.698787",
     "status": "completed"
    },
    "tags": []
   },
   "outputs": [
    {
     "data": {
      "text/plain": [
       "array([1, 1, 1, 1, 1, 1, 1, 1, 1, 1, 1, 1, 1, 1, 2, 1, 1, 2, 1, 1, 1, 1,\n",
       "       2, 1, 1, 1, 1, 1, 1, 2, 0, 1, 1, 1, 1, 1, 1, 2, 0, 1, 2, 1, 1, 1,\n",
       "       0, 0, 1, 1, 1, 0, 1, 1, 1, 1, 1, 1, 0, 1, 1, 1, 1, 0, 1, 1, 1, 1,\n",
       "       1, 1, 1, 1, 1, 1, 1, 1, 1, 0, 1, 1, 1, 0, 1, 1, 1, 1, 1, 1, 1, 0,\n",
       "       1, 1, 1, 1, 1, 1, 1, 1, 1, 1, 2, 1, 1, 1, 1, 1, 1, 1, 1, 1, 1, 1,\n",
       "       1, 1, 1, 1, 1, 1, 1, 2, 1, 0, 2, 1, 1, 0, 1, 1, 1, 0, 1, 1, 0, 2,\n",
       "       1, 1, 0, 1, 0, 2, 1, 1, 1, 0, 1])"
      ]
     },
     "execution_count": 10,
     "metadata": {},
     "output_type": "execute_result"
    }
   ],
   "source": [
    "preds = lr.predict(X_test_std)\n",
    "preds"
   ]
  },
  {
   "cell_type": "code",
   "execution_count": 11,
   "id": "17b96374",
   "metadata": {
    "execution": {
     "iopub.execute_input": "2023-12-14T00:04:37.728918Z",
     "iopub.status.busy": "2023-12-14T00:04:37.728918Z",
     "iopub.status.idle": "2023-12-14T00:04:37.735011Z",
     "shell.execute_reply": "2023-12-14T00:04:37.734608Z"
    },
    "papermill": {
     "duration": 0.013135,
     "end_time": "2023-12-14T00:04:37.735011",
     "exception": false,
     "start_time": "2023-12-14T00:04:37.721876",
     "status": "completed"
    },
    "tags": []
   },
   "outputs": [
    {
     "data": {
      "text/plain": [
       "array([1, 2, 1, 2, 0, 1, 1, 2, 1, 1, 1, 0, 0, 0, 2, 1, 0, 2, 2, 2, 1, 0,\n",
       "       2, 0, 1, 1, 0, 1, 2, 2, 0, 0, 1, 2, 1, 1, 2, 2, 0, 1, 2, 2, 1, 1,\n",
       "       0, 0, 0, 0, 1, 0, 0, 2, 1, 1, 1, 0, 0, 2, 2, 1, 2, 0, 1, 1, 0, 1,\n",
       "       0, 0, 2, 2, 2, 1, 1, 2, 2, 0, 1, 2, 0, 0, 2, 0, 2, 2, 0, 1, 0, 0,\n",
       "       0, 1, 1, 1, 0, 0, 2, 1, 2, 2, 2, 2, 0, 2, 2, 1, 1, 2, 2, 1, 2, 1,\n",
       "       0, 2, 0, 1, 1, 2, 0, 2, 2, 0, 2, 2, 1, 0, 0, 2, 0, 0, 0, 1, 0, 2,\n",
       "       1, 2, 0, 0, 0, 2, 2, 1, 0, 0, 1])"
      ]
     },
     "execution_count": 11,
     "metadata": {},
     "output_type": "execute_result"
    }
   ],
   "source": [
    "y_test"
   ]
  },
  {
   "cell_type": "code",
   "execution_count": 12,
   "id": "6cb9c210",
   "metadata": {
    "execution": {
     "iopub.execute_input": "2023-12-14T00:04:37.747211Z",
     "iopub.status.busy": "2023-12-14T00:04:37.747211Z",
     "iopub.status.idle": "2023-12-14T00:04:37.761877Z",
     "shell.execute_reply": "2023-12-14T00:04:37.761877Z"
    },
    "papermill": {
     "duration": 0.023115,
     "end_time": "2023-12-14T00:04:37.764366",
     "exception": false,
     "start_time": "2023-12-14T00:04:37.741251",
     "status": "completed"
    },
    "tags": []
   },
   "outputs": [],
   "source": [
    "from sklearn.metrics import accuracy_score, precision_score, recall_score, f1_score, confusion_matrix\n",
    "\n",
    "accuracy = accuracy_score(y_test, preds)\n",
    "precision = precision_score(y_test, preds, average='micro')\n",
    "recall = recall_score(y_test, preds, average='micro')\n",
    "f1 = f1_score(y_test, preds, average='micro')"
   ]
  },
  {
   "cell_type": "code",
   "execution_count": 13,
   "id": "cf95a0a0",
   "metadata": {
    "execution": {
     "iopub.execute_input": "2023-12-14T00:04:37.777422Z",
     "iopub.status.busy": "2023-12-14T00:04:37.777422Z",
     "iopub.status.idle": "2023-12-14T00:04:37.785489Z",
     "shell.execute_reply": "2023-12-14T00:04:37.784384Z"
    },
    "papermill": {
     "duration": 0.015536,
     "end_time": "2023-12-14T00:04:37.785806",
     "exception": false,
     "start_time": "2023-12-14T00:04:37.770270",
     "status": "completed"
    },
    "tags": []
   },
   "outputs": [],
   "source": [
    "metrics = {}\n",
    "\n",
    "metrics['accuracy lr'] = float(accuracy)\n",
    "metrics['precision lr'] = float(precision)\n",
    "metrics['recall lr'] = float(recall)\n",
    "metrics['f1 lr'] = float(f1)\n",
    "\n",
    "with open('./outputs/metrics_lr.yaml', 'w') as file:\n",
    "    yaml.dump(metrics, file, default_flow_style=False)"
   ]
  },
  {
   "cell_type": "code",
   "execution_count": 14,
   "id": "be7817c7",
   "metadata": {
    "execution": {
     "iopub.execute_input": "2023-12-14T00:04:37.800551Z",
     "iopub.status.busy": "2023-12-14T00:04:37.795760Z",
     "iopub.status.idle": "2023-12-14T00:04:37.806729Z",
     "shell.execute_reply": "2023-12-14T00:04:37.805692Z"
    },
    "papermill": {
     "duration": 0.018283,
     "end_time": "2023-12-14T00:04:37.807886",
     "exception": false,
     "start_time": "2023-12-14T00:04:37.789603",
     "status": "completed"
    },
    "tags": []
   },
   "outputs": [
    {
     "data": {
      "text/plain": [
       "{'accuracy lr': 0.5104895104895105,\n",
       " 'precision lr': 0.5104895104895105,\n",
       " 'recall lr': 0.5104895104895105,\n",
       " 'f1 lr': 0.5104895104895105}"
      ]
     },
     "execution_count": 14,
     "metadata": {},
     "output_type": "execute_result"
    }
   ],
   "source": [
    "metrics"
   ]
  },
  {
   "cell_type": "code",
   "execution_count": 15,
   "id": "bb56dbda",
   "metadata": {
    "execution": {
     "iopub.execute_input": "2023-12-14T00:04:37.819885Z",
     "iopub.status.busy": "2023-12-14T00:04:37.819885Z",
     "iopub.status.idle": "2023-12-14T00:04:37.836885Z",
     "shell.execute_reply": "2023-12-14T00:04:37.835951Z"
    },
    "papermill": {
     "duration": 0.024271,
     "end_time": "2023-12-14T00:04:37.838081",
     "exception": false,
     "start_time": "2023-12-14T00:04:37.813810",
     "status": "completed"
    },
    "tags": []
   },
   "outputs": [
    {
     "data": {
      "text/html": [
       "<div>\n",
       "<style scoped>\n",
       "    .dataframe tbody tr th:only-of-type {\n",
       "        vertical-align: middle;\n",
       "    }\n",
       "\n",
       "    .dataframe tbody tr th {\n",
       "        vertical-align: top;\n",
       "    }\n",
       "\n",
       "    .dataframe thead th {\n",
       "        text-align: right;\n",
       "    }\n",
       "</style>\n",
       "<table border=\"1\" class=\"dataframe\">\n",
       "  <thead>\n",
       "    <tr style=\"text-align: right;\">\n",
       "      <th></th>\n",
       "      <th>actual_class</th>\n",
       "      <th>predicted_class</th>\n",
       "    </tr>\n",
       "  </thead>\n",
       "  <tbody>\n",
       "    <tr>\n",
       "      <th>0</th>\n",
       "      <td>versicolor</td>\n",
       "      <td>versicolor</td>\n",
       "    </tr>\n",
       "    <tr>\n",
       "      <th>1</th>\n",
       "      <td>virginica</td>\n",
       "      <td>versicolor</td>\n",
       "    </tr>\n",
       "    <tr>\n",
       "      <th>2</th>\n",
       "      <td>versicolor</td>\n",
       "      <td>versicolor</td>\n",
       "    </tr>\n",
       "    <tr>\n",
       "      <th>3</th>\n",
       "      <td>virginica</td>\n",
       "      <td>versicolor</td>\n",
       "    </tr>\n",
       "    <tr>\n",
       "      <th>4</th>\n",
       "      <td>setosa</td>\n",
       "      <td>versicolor</td>\n",
       "    </tr>\n",
       "    <tr>\n",
       "      <th>...</th>\n",
       "      <td>...</td>\n",
       "      <td>...</td>\n",
       "    </tr>\n",
       "    <tr>\n",
       "      <th>138</th>\n",
       "      <td>virginica</td>\n",
       "      <td>versicolor</td>\n",
       "    </tr>\n",
       "    <tr>\n",
       "      <th>139</th>\n",
       "      <td>versicolor</td>\n",
       "      <td>versicolor</td>\n",
       "    </tr>\n",
       "    <tr>\n",
       "      <th>140</th>\n",
       "      <td>setosa</td>\n",
       "      <td>versicolor</td>\n",
       "    </tr>\n",
       "    <tr>\n",
       "      <th>141</th>\n",
       "      <td>setosa</td>\n",
       "      <td>setosa</td>\n",
       "    </tr>\n",
       "    <tr>\n",
       "      <th>142</th>\n",
       "      <td>versicolor</td>\n",
       "      <td>versicolor</td>\n",
       "    </tr>\n",
       "  </tbody>\n",
       "</table>\n",
       "<p>143 rows × 2 columns</p>\n",
       "</div>"
      ],
      "text/plain": [
       "    actual_class predicted_class\n",
       "0     versicolor      versicolor\n",
       "1      virginica      versicolor\n",
       "2     versicolor      versicolor\n",
       "3      virginica      versicolor\n",
       "4         setosa      versicolor\n",
       "..           ...             ...\n",
       "138    virginica      versicolor\n",
       "139   versicolor      versicolor\n",
       "140       setosa      versicolor\n",
       "141       setosa          setosa\n",
       "142   versicolor      versicolor\n",
       "\n",
       "[143 rows x 2 columns]"
      ]
     },
     "execution_count": 15,
     "metadata": {},
     "output_type": "execute_result"
    }
   ],
   "source": [
    "test_classes = pd.DataFrame()\n",
    "\n",
    "test_classes['actual_class'] = le.inverse_transform(y_test)\n",
    "test_classes['predicted_class'] = le.inverse_transform(preds)\n",
    "test_classes"
   ]
  },
  {
   "cell_type": "code",
   "execution_count": 16,
   "id": "57876c0a",
   "metadata": {
    "execution": {
     "iopub.execute_input": "2023-12-14T00:04:37.850149Z",
     "iopub.status.busy": "2023-12-14T00:04:37.850149Z",
     "iopub.status.idle": "2023-12-14T00:04:37.864254Z",
     "shell.execute_reply": "2023-12-14T00:04:37.864254Z"
    },
    "papermill": {
     "duration": 0.019515,
     "end_time": "2023-12-14T00:04:37.864254",
     "exception": false,
     "start_time": "2023-12-14T00:04:37.844739",
     "status": "completed"
    },
    "tags": []
   },
   "outputs": [
    {
     "data": {
      "text/html": [
       "<div>\n",
       "<style scoped>\n",
       "    .dataframe tbody tr th:only-of-type {\n",
       "        vertical-align: middle;\n",
       "    }\n",
       "\n",
       "    .dataframe tbody tr th {\n",
       "        vertical-align: top;\n",
       "    }\n",
       "\n",
       "    .dataframe thead th {\n",
       "        text-align: right;\n",
       "    }\n",
       "</style>\n",
       "<table border=\"1\" class=\"dataframe\">\n",
       "  <thead>\n",
       "    <tr style=\"text-align: right;\">\n",
       "      <th></th>\n",
       "      <th>actual_class</th>\n",
       "      <th>predicted_class</th>\n",
       "    </tr>\n",
       "  </thead>\n",
       "  <tbody>\n",
       "    <tr>\n",
       "      <th>0</th>\n",
       "      <td>setosa</td>\n",
       "      <td>setosa</td>\n",
       "    </tr>\n",
       "    <tr>\n",
       "      <th>1</th>\n",
       "      <td>versicolor</td>\n",
       "      <td>versicolor</td>\n",
       "    </tr>\n",
       "    <tr>\n",
       "      <th>2</th>\n",
       "      <td>versicolor</td>\n",
       "      <td>versicolor</td>\n",
       "    </tr>\n",
       "    <tr>\n",
       "      <th>3</th>\n",
       "      <td>versicolor</td>\n",
       "      <td>versicolor</td>\n",
       "    </tr>\n",
       "    <tr>\n",
       "      <th>4</th>\n",
       "      <td>versicolor</td>\n",
       "      <td>versicolor</td>\n",
       "    </tr>\n",
       "    <tr>\n",
       "      <th>5</th>\n",
       "      <td>versicolor</td>\n",
       "      <td>versicolor</td>\n",
       "    </tr>\n",
       "    <tr>\n",
       "      <th>6</th>\n",
       "      <td>virginica</td>\n",
       "      <td>virginica</td>\n",
       "    </tr>\n",
       "  </tbody>\n",
       "</table>\n",
       "</div>"
      ],
      "text/plain": [
       "  actual_class predicted_class\n",
       "0       setosa          setosa\n",
       "1   versicolor      versicolor\n",
       "2   versicolor      versicolor\n",
       "3   versicolor      versicolor\n",
       "4   versicolor      versicolor\n",
       "5   versicolor      versicolor\n",
       "6    virginica       virginica"
      ]
     },
     "execution_count": 16,
     "metadata": {},
     "output_type": "execute_result"
    }
   ],
   "source": [
    "train_classes = pd.DataFrame()\n",
    "\n",
    "train_classes['actual_class'] = le.inverse_transform(y_train)\n",
    "train_classes['predicted_class'] = le.inverse_transform(lr.predict(X_train_std))\n",
    "train_classes"
   ]
  },
  {
   "cell_type": "code",
   "execution_count": 17,
   "id": "a9174682",
   "metadata": {
    "execution": {
     "iopub.execute_input": "2023-12-14T00:04:37.881475Z",
     "iopub.status.busy": "2023-12-14T00:04:37.880477Z",
     "iopub.status.idle": "2023-12-14T00:04:37.891463Z",
     "shell.execute_reply": "2023-12-14T00:04:37.890649Z"
    },
    "papermill": {
     "duration": 0.020306,
     "end_time": "2023-12-14T00:04:37.893582",
     "exception": false,
     "start_time": "2023-12-14T00:04:37.873276",
     "status": "completed"
    },
    "tags": []
   },
   "outputs": [],
   "source": [
    "test_classes.to_csv('outputs/test_classes_lr.csv', index=False)\n",
    "train_classes.to_csv('outputs/train_classes_lr.csv', index=False)"
   ]
  },
  {
   "cell_type": "code",
   "execution_count": 18,
   "id": "aff101e8",
   "metadata": {
    "execution": {
     "iopub.execute_input": "2023-12-14T00:04:37.904757Z",
     "iopub.status.busy": "2023-12-14T00:04:37.904757Z",
     "iopub.status.idle": "2023-12-14T00:04:37.913757Z",
     "shell.execute_reply": "2023-12-14T00:04:37.913757Z"
    },
    "papermill": {
     "duration": 0.016183,
     "end_time": "2023-12-14T00:04:37.916827",
     "exception": false,
     "start_time": "2023-12-14T00:04:37.900644",
     "status": "completed"
    },
    "tags": []
   },
   "outputs": [],
   "source": [
    "import pickle\n",
    "\n",
    "with open('./outputs/model_lr.pckl', 'wb') as file:\n",
    "    pickle.dump(lr, file)"
   ]
  },
  {
   "cell_type": "code",
   "execution_count": null,
   "id": "fc92082b",
   "metadata": {
    "papermill": {
     "duration": 0.006453,
     "end_time": "2023-12-14T00:04:37.929316",
     "exception": false,
     "start_time": "2023-12-14T00:04:37.922863",
     "status": "completed"
    },
    "tags": []
   },
   "outputs": [],
   "source": []
  }
 ],
 "metadata": {
  "kernelspec": {
   "display_name": "Python 3",
   "language": "python",
   "name": "python3"
  },
  "language_info": {
   "codemirror_mode": {
    "name": "ipython",
    "version": 3
   },
   "file_extension": ".py",
   "mimetype": "text/x-python",
   "name": "python",
   "nbconvert_exporter": "python",
   "pygments_lexer": "ipython3",
   "version": "3.11.5"
  },
  "papermill": {
   "default_parameters": {},
   "duration": 6.081833,
   "end_time": "2023-12-14T00:04:38.371277",
   "environment_variables": {},
   "exception": null,
   "input_path": "logistic_regression.ipynb",
   "output_path": "outputs/logistic_regression_out.ipynb",
   "parameters": {
    "C": 1.0,
    "DATA": "data.csv",
    "MULTI_CLASS": "multinomial",
    "PENALTY": "l2",
    "SEED": 666,
    "TEST_SIZE": 0.95
   },
   "start_time": "2023-12-14T00:04:32.289444",
   "version": "2.5.0"
  }
 },
 "nbformat": 4,
 "nbformat_minor": 5
}