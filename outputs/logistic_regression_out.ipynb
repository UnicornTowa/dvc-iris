{
 "cells": [
  {
   "cell_type": "code",
   "execution_count": 1,
   "id": "05925dd6",
   "metadata": {
    "execution": {
     "iopub.execute_input": "2023-12-14T00:48:11.535586Z",
     "iopub.status.busy": "2023-12-14T00:48:11.534587Z",
     "iopub.status.idle": "2023-12-14T00:48:12.280300Z",
     "shell.execute_reply": "2023-12-14T00:48:12.279285Z"
    },
    "papermill": {
     "duration": 0.756052,
     "end_time": "2023-12-14T00:48:12.282295",
     "exception": false,
     "start_time": "2023-12-14T00:48:11.526243",
     "status": "completed"
    },
    "tags": []
   },
   "outputs": [],
   "source": [
    "import pandas as pd\n",
    "import numpy as np\n",
    "import yaml"
   ]
  },
  {
   "cell_type": "code",
   "execution_count": 2,
   "id": "c55e3134",
   "metadata": {
    "execution": {
     "iopub.execute_input": "2023-12-14T00:48:12.294298Z",
     "iopub.status.busy": "2023-12-14T00:48:12.293301Z",
     "iopub.status.idle": "2023-12-14T00:48:12.299544Z",
     "shell.execute_reply": "2023-12-14T00:48:12.298525Z"
    },
    "papermill": {
     "duration": 0.014243,
     "end_time": "2023-12-14T00:48:12.301540",
     "exception": false,
     "start_time": "2023-12-14T00:48:12.287297",
     "status": "completed"
    },
    "tags": [
     "parameters"
    ]
   },
   "outputs": [],
   "source": [
    "SEED: int = 666\n",
    "TEST_SIZE: float = 0.2\n",
    "PENALTY: str = 'l2'\n",
    "C: float = 1.0\n",
    "MULTI_CLASS: str = 'multinomial'\n",
    "DATA: str = 'data.csv'"
   ]
  },
  {
   "cell_type": "code",
   "execution_count": 3,
   "id": "9b7967c9",
   "metadata": {
    "execution": {
     "iopub.execute_input": "2023-12-14T00:48:12.312003Z",
     "iopub.status.busy": "2023-12-14T00:48:12.310990Z",
     "iopub.status.idle": "2023-12-14T00:48:12.317036Z",
     "shell.execute_reply": "2023-12-14T00:48:12.316018Z"
    },
    "papermill": {
     "duration": 0.013491,
     "end_time": "2023-12-14T00:48:12.319031",
     "exception": false,
     "start_time": "2023-12-14T00:48:12.305540",
     "status": "completed"
    },
    "tags": [
     "injected-parameters"
    ]
   },
   "outputs": [],
   "source": [
    "# Parameters\n",
    "SEED = 666\n",
    "DATA = \"data.csv\"\n",
    "TEST_SIZE = 0.93\n",
    "PENALTY = \"l2\"\n",
    "C = 1.0\n",
    "MULTI_CLASS = \"multinomial\"\n"
   ]
  },
  {
   "cell_type": "code",
   "execution_count": 4,
   "id": "b1b9f197",
   "metadata": {
    "execution": {
     "iopub.execute_input": "2023-12-14T00:48:12.330428Z",
     "iopub.status.busy": "2023-12-14T00:48:12.329434Z",
     "iopub.status.idle": "2023-12-14T00:48:12.361761Z",
     "shell.execute_reply": "2023-12-14T00:48:12.360746Z"
    },
    "papermill": {
     "duration": 0.040343,
     "end_time": "2023-12-14T00:48:12.363756",
     "exception": false,
     "start_time": "2023-12-14T00:48:12.323413",
     "status": "completed"
    },
    "tags": []
   },
   "outputs": [
    {
     "data": {
      "text/html": [
       "<div>\n",
       "<style scoped>\n",
       "    .dataframe tbody tr th:only-of-type {\n",
       "        vertical-align: middle;\n",
       "    }\n",
       "\n",
       "    .dataframe tbody tr th {\n",
       "        vertical-align: top;\n",
       "    }\n",
       "\n",
       "    .dataframe thead th {\n",
       "        text-align: right;\n",
       "    }\n",
       "</style>\n",
       "<table border=\"1\" class=\"dataframe\">\n",
       "  <thead>\n",
       "    <tr style=\"text-align: right;\">\n",
       "      <th></th>\n",
       "      <th>target</th>\n",
       "      <th>sepal length (cm)</th>\n",
       "      <th>sepal width (cm)</th>\n",
       "      <th>petal length (cm)</th>\n",
       "      <th>petal width (cm)</th>\n",
       "    </tr>\n",
       "  </thead>\n",
       "  <tbody>\n",
       "    <tr>\n",
       "      <th>0</th>\n",
       "      <td>setosa</td>\n",
       "      <td>5.1</td>\n",
       "      <td>3.5</td>\n",
       "      <td>1.4</td>\n",
       "      <td>0.2</td>\n",
       "    </tr>\n",
       "    <tr>\n",
       "      <th>1</th>\n",
       "      <td>setosa</td>\n",
       "      <td>4.9</td>\n",
       "      <td>3.0</td>\n",
       "      <td>1.4</td>\n",
       "      <td>0.2</td>\n",
       "    </tr>\n",
       "    <tr>\n",
       "      <th>2</th>\n",
       "      <td>setosa</td>\n",
       "      <td>4.7</td>\n",
       "      <td>3.2</td>\n",
       "      <td>1.3</td>\n",
       "      <td>0.2</td>\n",
       "    </tr>\n",
       "    <tr>\n",
       "      <th>3</th>\n",
       "      <td>setosa</td>\n",
       "      <td>4.6</td>\n",
       "      <td>3.1</td>\n",
       "      <td>1.5</td>\n",
       "      <td>0.2</td>\n",
       "    </tr>\n",
       "    <tr>\n",
       "      <th>4</th>\n",
       "      <td>setosa</td>\n",
       "      <td>5.0</td>\n",
       "      <td>3.6</td>\n",
       "      <td>1.4</td>\n",
       "      <td>0.2</td>\n",
       "    </tr>\n",
       "    <tr>\n",
       "      <th>...</th>\n",
       "      <td>...</td>\n",
       "      <td>...</td>\n",
       "      <td>...</td>\n",
       "      <td>...</td>\n",
       "      <td>...</td>\n",
       "    </tr>\n",
       "    <tr>\n",
       "      <th>145</th>\n",
       "      <td>virginica</td>\n",
       "      <td>6.7</td>\n",
       "      <td>3.0</td>\n",
       "      <td>5.2</td>\n",
       "      <td>2.3</td>\n",
       "    </tr>\n",
       "    <tr>\n",
       "      <th>146</th>\n",
       "      <td>virginica</td>\n",
       "      <td>6.3</td>\n",
       "      <td>2.5</td>\n",
       "      <td>5.0</td>\n",
       "      <td>1.9</td>\n",
       "    </tr>\n",
       "    <tr>\n",
       "      <th>147</th>\n",
       "      <td>virginica</td>\n",
       "      <td>6.5</td>\n",
       "      <td>3.0</td>\n",
       "      <td>5.2</td>\n",
       "      <td>2.0</td>\n",
       "    </tr>\n",
       "    <tr>\n",
       "      <th>148</th>\n",
       "      <td>virginica</td>\n",
       "      <td>6.2</td>\n",
       "      <td>3.4</td>\n",
       "      <td>5.4</td>\n",
       "      <td>2.3</td>\n",
       "    </tr>\n",
       "    <tr>\n",
       "      <th>149</th>\n",
       "      <td>virginica</td>\n",
       "      <td>5.9</td>\n",
       "      <td>3.0</td>\n",
       "      <td>5.1</td>\n",
       "      <td>1.8</td>\n",
       "    </tr>\n",
       "  </tbody>\n",
       "</table>\n",
       "<p>150 rows × 5 columns</p>\n",
       "</div>"
      ],
      "text/plain": [
       "        target  sepal length (cm)  sepal width (cm)  petal length (cm)  \\\n",
       "0       setosa                5.1               3.5                1.4   \n",
       "1       setosa                4.9               3.0                1.4   \n",
       "2       setosa                4.7               3.2                1.3   \n",
       "3       setosa                4.6               3.1                1.5   \n",
       "4       setosa                5.0               3.6                1.4   \n",
       "..         ...                ...               ...                ...   \n",
       "145  virginica                6.7               3.0                5.2   \n",
       "146  virginica                6.3               2.5                5.0   \n",
       "147  virginica                6.5               3.0                5.2   \n",
       "148  virginica                6.2               3.4                5.4   \n",
       "149  virginica                5.9               3.0                5.1   \n",
       "\n",
       "     petal width (cm)  \n",
       "0                 0.2  \n",
       "1                 0.2  \n",
       "2                 0.2  \n",
       "3                 0.2  \n",
       "4                 0.2  \n",
       "..                ...  \n",
       "145               2.3  \n",
       "146               1.9  \n",
       "147               2.0  \n",
       "148               2.3  \n",
       "149               1.8  \n",
       "\n",
       "[150 rows x 5 columns]"
      ]
     },
     "execution_count": 4,
     "metadata": {},
     "output_type": "execute_result"
    }
   ],
   "source": [
    "df = pd.read_csv(DATA, index_col=0)\n",
    "df"
   ]
  },
  {
   "cell_type": "code",
   "execution_count": 5,
   "id": "9597debe",
   "metadata": {
    "execution": {
     "iopub.execute_input": "2023-12-14T00:48:12.375759Z",
     "iopub.status.busy": "2023-12-14T00:48:12.375759Z",
     "iopub.status.idle": "2023-12-14T00:48:12.382092Z",
     "shell.execute_reply": "2023-12-14T00:48:12.381081Z"
    },
    "papermill": {
     "duration": 0.015291,
     "end_time": "2023-12-14T00:48:12.384092",
     "exception": false,
     "start_time": "2023-12-14T00:48:12.368801",
     "status": "completed"
    },
    "tags": []
   },
   "outputs": [],
   "source": [
    "target = 'target'\n",
    "features = list(df.columns)\n",
    "features.remove(target)\n",
    "X = df[features]\n",
    "y = df[target]"
   ]
  },
  {
   "cell_type": "code",
   "execution_count": 6,
   "id": "d7d57f33",
   "metadata": {
    "execution": {
     "iopub.execute_input": "2023-12-14T00:48:12.396097Z",
     "iopub.status.busy": "2023-12-14T00:48:12.395091Z",
     "iopub.status.idle": "2023-12-14T00:48:13.334422Z",
     "shell.execute_reply": "2023-12-14T00:48:13.333405Z"
    },
    "papermill": {
     "duration": 0.947331,
     "end_time": "2023-12-14T00:48:13.336422",
     "exception": false,
     "start_time": "2023-12-14T00:48:12.389091",
     "status": "completed"
    },
    "tags": []
   },
   "outputs": [
    {
     "data": {
      "text/plain": [
       "array(['setosa', 'versicolor', 'virginica'], dtype=object)"
      ]
     },
     "execution_count": 6,
     "metadata": {},
     "output_type": "execute_result"
    }
   ],
   "source": [
    "from sklearn.preprocessing import LabelEncoder\n",
    "\n",
    "le = LabelEncoder()\n",
    "le.fit(y)\n",
    "y = le.fit_transform(y)\n",
    "\n",
    "le.classes_"
   ]
  },
  {
   "cell_type": "code",
   "execution_count": 7,
   "id": "0aed4ec3",
   "metadata": {
    "execution": {
     "iopub.execute_input": "2023-12-14T00:48:13.348224Z",
     "iopub.status.busy": "2023-12-14T00:48:13.348224Z",
     "iopub.status.idle": "2023-12-14T00:48:13.430230Z",
     "shell.execute_reply": "2023-12-14T00:48:13.429211Z"
    },
    "papermill": {
     "duration": 0.090734,
     "end_time": "2023-12-14T00:48:13.432263",
     "exception": false,
     "start_time": "2023-12-14T00:48:13.341529",
     "status": "completed"
    },
    "tags": []
   },
   "outputs": [],
   "source": [
    "from sklearn.model_selection import train_test_split\n",
    "\n",
    "X_train, X_test, y_train, y_test = train_test_split(\n",
    "    X, y, test_size=TEST_SIZE, random_state=SEED)"
   ]
  },
  {
   "cell_type": "code",
   "execution_count": 8,
   "id": "c8c8bd4b",
   "metadata": {
    "execution": {
     "iopub.execute_input": "2023-12-14T00:48:13.443297Z",
     "iopub.status.busy": "2023-12-14T00:48:13.443297Z",
     "iopub.status.idle": "2023-12-14T00:48:13.452878Z",
     "shell.execute_reply": "2023-12-14T00:48:13.451862Z"
    },
    "papermill": {
     "duration": 0.018594,
     "end_time": "2023-12-14T00:48:13.454891",
     "exception": false,
     "start_time": "2023-12-14T00:48:13.436297",
     "status": "completed"
    },
    "tags": []
   },
   "outputs": [],
   "source": [
    "from sklearn.preprocessing import StandardScaler\n",
    "\n",
    "sc = StandardScaler()\n",
    "sc.fit(X_train)\n",
    "X_train_std = sc.transform(X_train)\n",
    "X_test_std = sc.transform(X_test)"
   ]
  },
  {
   "cell_type": "code",
   "execution_count": 9,
   "id": "d358d569",
   "metadata": {
    "execution": {
     "iopub.execute_input": "2023-12-14T00:48:13.466347Z",
     "iopub.status.busy": "2023-12-14T00:48:13.466347Z",
     "iopub.status.idle": "2023-12-14T00:48:13.553028Z",
     "shell.execute_reply": "2023-12-14T00:48:13.552007Z"
    },
    "papermill": {
     "duration": 0.095155,
     "end_time": "2023-12-14T00:48:13.555035",
     "exception": false,
     "start_time": "2023-12-14T00:48:13.459880",
     "status": "completed"
    },
    "tags": []
   },
   "outputs": [
    {
     "data": {
      "text/html": [
       "<style>#sk-container-id-1 {color: black;}#sk-container-id-1 pre{padding: 0;}#sk-container-id-1 div.sk-toggleable {background-color: white;}#sk-container-id-1 label.sk-toggleable__label {cursor: pointer;display: block;width: 100%;margin-bottom: 0;padding: 0.3em;box-sizing: border-box;text-align: center;}#sk-container-id-1 label.sk-toggleable__label-arrow:before {content: \"▸\";float: left;margin-right: 0.25em;color: #696969;}#sk-container-id-1 label.sk-toggleable__label-arrow:hover:before {color: black;}#sk-container-id-1 div.sk-estimator:hover label.sk-toggleable__label-arrow:before {color: black;}#sk-container-id-1 div.sk-toggleable__content {max-height: 0;max-width: 0;overflow: hidden;text-align: left;background-color: #f0f8ff;}#sk-container-id-1 div.sk-toggleable__content pre {margin: 0.2em;color: black;border-radius: 0.25em;background-color: #f0f8ff;}#sk-container-id-1 input.sk-toggleable__control:checked~div.sk-toggleable__content {max-height: 200px;max-width: 100%;overflow: auto;}#sk-container-id-1 input.sk-toggleable__control:checked~label.sk-toggleable__label-arrow:before {content: \"▾\";}#sk-container-id-1 div.sk-estimator input.sk-toggleable__control:checked~label.sk-toggleable__label {background-color: #d4ebff;}#sk-container-id-1 div.sk-label input.sk-toggleable__control:checked~label.sk-toggleable__label {background-color: #d4ebff;}#sk-container-id-1 input.sk-hidden--visually {border: 0;clip: rect(1px 1px 1px 1px);clip: rect(1px, 1px, 1px, 1px);height: 1px;margin: -1px;overflow: hidden;padding: 0;position: absolute;width: 1px;}#sk-container-id-1 div.sk-estimator {font-family: monospace;background-color: #f0f8ff;border: 1px dotted black;border-radius: 0.25em;box-sizing: border-box;margin-bottom: 0.5em;}#sk-container-id-1 div.sk-estimator:hover {background-color: #d4ebff;}#sk-container-id-1 div.sk-parallel-item::after {content: \"\";width: 100%;border-bottom: 1px solid gray;flex-grow: 1;}#sk-container-id-1 div.sk-label:hover label.sk-toggleable__label {background-color: #d4ebff;}#sk-container-id-1 div.sk-serial::before {content: \"\";position: absolute;border-left: 1px solid gray;box-sizing: border-box;top: 0;bottom: 0;left: 50%;z-index: 0;}#sk-container-id-1 div.sk-serial {display: flex;flex-direction: column;align-items: center;background-color: white;padding-right: 0.2em;padding-left: 0.2em;position: relative;}#sk-container-id-1 div.sk-item {position: relative;z-index: 1;}#sk-container-id-1 div.sk-parallel {display: flex;align-items: stretch;justify-content: center;background-color: white;position: relative;}#sk-container-id-1 div.sk-item::before, #sk-container-id-1 div.sk-parallel-item::before {content: \"\";position: absolute;border-left: 1px solid gray;box-sizing: border-box;top: 0;bottom: 0;left: 50%;z-index: -1;}#sk-container-id-1 div.sk-parallel-item {display: flex;flex-direction: column;z-index: 1;position: relative;background-color: white;}#sk-container-id-1 div.sk-parallel-item:first-child::after {align-self: flex-end;width: 50%;}#sk-container-id-1 div.sk-parallel-item:last-child::after {align-self: flex-start;width: 50%;}#sk-container-id-1 div.sk-parallel-item:only-child::after {width: 0;}#sk-container-id-1 div.sk-dashed-wrapped {border: 1px dashed gray;margin: 0 0.4em 0.5em 0.4em;box-sizing: border-box;padding-bottom: 0.4em;background-color: white;}#sk-container-id-1 div.sk-label label {font-family: monospace;font-weight: bold;display: inline-block;line-height: 1.2em;}#sk-container-id-1 div.sk-label-container {text-align: center;}#sk-container-id-1 div.sk-container {/* jupyter's `normalize.less` sets `[hidden] { display: none; }` but bootstrap.min.css set `[hidden] { display: none !important; }` so we also need the `!important` here to be able to override the default hidden behavior on the sphinx rendered scikit-learn.org. See: https://github.com/scikit-learn/scikit-learn/issues/21755 */display: inline-block !important;position: relative;}#sk-container-id-1 div.sk-text-repr-fallback {display: none;}</style><div id=\"sk-container-id-1\" class=\"sk-top-container\"><div class=\"sk-text-repr-fallback\"><pre>LogisticRegression(multi_class=&#x27;multinomial&#x27;, random_state=666)</pre><b>In a Jupyter environment, please rerun this cell to show the HTML representation or trust the notebook. <br />On GitHub, the HTML representation is unable to render, please try loading this page with nbviewer.org.</b></div><div class=\"sk-container\" hidden><div class=\"sk-item\"><div class=\"sk-estimator sk-toggleable\"><input class=\"sk-toggleable__control sk-hidden--visually\" id=\"sk-estimator-id-1\" type=\"checkbox\" checked><label for=\"sk-estimator-id-1\" class=\"sk-toggleable__label sk-toggleable__label-arrow\">LogisticRegression</label><div class=\"sk-toggleable__content\"><pre>LogisticRegression(multi_class=&#x27;multinomial&#x27;, random_state=666)</pre></div></div></div></div></div>"
      ],
      "text/plain": [
       "LogisticRegression(multi_class='multinomial', random_state=666)"
      ]
     },
     "execution_count": 9,
     "metadata": {},
     "output_type": "execute_result"
    }
   ],
   "source": [
    "from sklearn.linear_model import LogisticRegression\n",
    "\n",
    "lr = LogisticRegression(C=C, random_state=SEED, penalty=PENALTY, multi_class=MULTI_CLASS)\n",
    "lr.fit(X_train_std, y_train)"
   ]
  },
  {
   "cell_type": "code",
   "execution_count": 10,
   "id": "10b08ae7",
   "metadata": {
    "execution": {
     "iopub.execute_input": "2023-12-14T00:48:13.568311Z",
     "iopub.status.busy": "2023-12-14T00:48:13.567324Z",
     "iopub.status.idle": "2023-12-14T00:48:13.574300Z",
     "shell.execute_reply": "2023-12-14T00:48:13.574300Z"
    },
    "papermill": {
     "duration": 0.016011,
     "end_time": "2023-12-14T00:48:13.576323",
     "exception": false,
     "start_time": "2023-12-14T00:48:13.560312",
     "status": "completed"
    },
    "tags": []
   },
   "outputs": [
    {
     "data": {
      "text/plain": [
       "array([1, 1, 1, 1, 0, 1, 1, 1, 1, 1, 1, 1, 0, 0, 2, 1, 0, 2, 1, 1, 1, 0,\n",
       "       2, 0, 1, 1, 0, 1, 1, 2, 0, 0, 1, 1, 1, 1, 1, 2, 0, 1, 2, 1, 1, 1,\n",
       "       0, 0, 0, 0, 1, 0, 0, 1, 1, 1, 1, 0, 0, 1, 1, 1, 1, 0, 1, 1, 0, 1,\n",
       "       0, 0, 1, 1, 1, 1, 1, 1, 1, 0, 1, 1, 0, 0, 1, 0, 1, 1, 0, 1, 0, 0,\n",
       "       0, 1, 1, 1, 0, 0, 1, 1, 1, 1, 1, 1, 0, 1, 1, 1, 1, 1, 1, 1, 1, 1,\n",
       "       0, 1, 0, 1, 1, 1, 0, 1, 1, 0, 2, 1, 1, 0, 0, 1, 0, 0, 0, 1, 0, 2,\n",
       "       1, 1, 0, 0, 0, 2, 1, 1])"
      ]
     },
     "execution_count": 10,
     "metadata": {},
     "output_type": "execute_result"
    }
   ],
   "source": [
    "preds = lr.predict(X_test_std)\n",
    "preds"
   ]
  },
  {
   "cell_type": "code",
   "execution_count": 11,
   "id": "3a90d7b0",
   "metadata": {
    "execution": {
     "iopub.execute_input": "2023-12-14T00:48:13.589880Z",
     "iopub.status.busy": "2023-12-14T00:48:13.589880Z",
     "iopub.status.idle": "2023-12-14T00:48:13.597007Z",
     "shell.execute_reply": "2023-12-14T00:48:13.595988Z"
    },
    "papermill": {
     "duration": 0.016452,
     "end_time": "2023-12-14T00:48:13.599010",
     "exception": false,
     "start_time": "2023-12-14T00:48:13.582558",
     "status": "completed"
    },
    "tags": []
   },
   "outputs": [
    {
     "data": {
      "text/plain": [
       "array([1, 2, 1, 2, 0, 1, 1, 2, 1, 1, 1, 0, 0, 0, 2, 1, 0, 2, 2, 2, 1, 0,\n",
       "       2, 0, 1, 1, 0, 1, 2, 2, 0, 0, 1, 2, 1, 1, 2, 2, 0, 1, 2, 2, 1, 1,\n",
       "       0, 0, 0, 0, 1, 0, 0, 2, 1, 1, 1, 0, 0, 2, 2, 1, 2, 0, 1, 1, 0, 1,\n",
       "       0, 0, 2, 2, 2, 1, 1, 2, 2, 0, 1, 2, 0, 0, 2, 0, 2, 2, 0, 1, 0, 0,\n",
       "       0, 1, 1, 1, 0, 0, 2, 1, 2, 2, 2, 2, 0, 2, 2, 1, 1, 2, 2, 1, 2, 1,\n",
       "       0, 2, 0, 1, 1, 2, 0, 2, 2, 0, 2, 2, 1, 0, 0, 2, 0, 0, 0, 1, 0, 2,\n",
       "       1, 2, 0, 0, 0, 2, 2, 1])"
      ]
     },
     "execution_count": 11,
     "metadata": {},
     "output_type": "execute_result"
    }
   ],
   "source": [
    "y_test"
   ]
  },
  {
   "cell_type": "code",
   "execution_count": 12,
   "id": "dbb34c59",
   "metadata": {
    "execution": {
     "iopub.execute_input": "2023-12-14T00:48:13.612190Z",
     "iopub.status.busy": "2023-12-14T00:48:13.611196Z",
     "iopub.status.idle": "2023-12-14T00:48:13.625508Z",
     "shell.execute_reply": "2023-12-14T00:48:13.624491Z"
    },
    "papermill": {
     "duration": 0.022507,
     "end_time": "2023-12-14T00:48:13.627509",
     "exception": false,
     "start_time": "2023-12-14T00:48:13.605002",
     "status": "completed"
    },
    "tags": []
   },
   "outputs": [],
   "source": [
    "from sklearn.metrics import accuracy_score, precision_score, recall_score, f1_score, confusion_matrix\n",
    "\n",
    "accuracy = accuracy_score(y_test, preds)\n",
    "precision = precision_score(y_test, preds, average='micro')\n",
    "recall = recall_score(y_test, preds, average='micro')\n",
    "f1 = f1_score(y_test, preds, average='micro')"
   ]
  },
  {
   "cell_type": "code",
   "execution_count": 13,
   "id": "8c54c008",
   "metadata": {
    "execution": {
     "iopub.execute_input": "2023-12-14T00:48:13.640967Z",
     "iopub.status.busy": "2023-12-14T00:48:13.640967Z",
     "iopub.status.idle": "2023-12-14T00:48:13.648298Z",
     "shell.execute_reply": "2023-12-14T00:48:13.647278Z"
    },
    "papermill": {
     "duration": 0.015867,
     "end_time": "2023-12-14T00:48:13.649838",
     "exception": false,
     "start_time": "2023-12-14T00:48:13.633971",
     "status": "completed"
    },
    "tags": []
   },
   "outputs": [],
   "source": [
    "metrics = {}\n",
    "\n",
    "metrics['accuracy lr'] = float(accuracy)\n",
    "metrics['precision lr'] = float(precision)\n",
    "metrics['recall lr'] = float(recall)\n",
    "metrics['f1 lr'] = float(f1)\n",
    "\n",
    "with open('./outputs/metrics_lr.yaml', 'w') as file:\n",
    "    yaml.dump(metrics, file, default_flow_style=False)"
   ]
  },
  {
   "cell_type": "code",
   "execution_count": 14,
   "id": "bc03d4c1",
   "metadata": {
    "execution": {
     "iopub.execute_input": "2023-12-14T00:48:13.663584Z",
     "iopub.status.busy": "2023-12-14T00:48:13.662566Z",
     "iopub.status.idle": "2023-12-14T00:48:13.669643Z",
     "shell.execute_reply": "2023-12-14T00:48:13.668624Z"
    },
    "papermill": {
     "duration": 0.015596,
     "end_time": "2023-12-14T00:48:13.671643",
     "exception": false,
     "start_time": "2023-12-14T00:48:13.656047",
     "status": "completed"
    },
    "tags": []
   },
   "outputs": [
    {
     "data": {
      "text/plain": [
       "{'accuracy lr': 0.7071428571428572,\n",
       " 'precision lr': 0.7071428571428572,\n",
       " 'recall lr': 0.7071428571428572,\n",
       " 'f1 lr': 0.7071428571428572}"
      ]
     },
     "execution_count": 14,
     "metadata": {},
     "output_type": "execute_result"
    }
   ],
   "source": [
    "metrics"
   ]
  },
  {
   "cell_type": "code",
   "execution_count": 15,
   "id": "01759585",
   "metadata": {
    "execution": {
     "iopub.execute_input": "2023-12-14T00:48:13.685644Z",
     "iopub.status.busy": "2023-12-14T00:48:13.685644Z",
     "iopub.status.idle": "2023-12-14T00:48:13.701329Z",
     "shell.execute_reply": "2023-12-14T00:48:13.700311Z"
    },
    "papermill": {
     "duration": 0.024684,
     "end_time": "2023-12-14T00:48:13.703326",
     "exception": false,
     "start_time": "2023-12-14T00:48:13.678642",
     "status": "completed"
    },
    "tags": []
   },
   "outputs": [
    {
     "data": {
      "text/html": [
       "<div>\n",
       "<style scoped>\n",
       "    .dataframe tbody tr th:only-of-type {\n",
       "        vertical-align: middle;\n",
       "    }\n",
       "\n",
       "    .dataframe tbody tr th {\n",
       "        vertical-align: top;\n",
       "    }\n",
       "\n",
       "    .dataframe thead th {\n",
       "        text-align: right;\n",
       "    }\n",
       "</style>\n",
       "<table border=\"1\" class=\"dataframe\">\n",
       "  <thead>\n",
       "    <tr style=\"text-align: right;\">\n",
       "      <th></th>\n",
       "      <th>actual_class</th>\n",
       "      <th>predicted_class</th>\n",
       "    </tr>\n",
       "  </thead>\n",
       "  <tbody>\n",
       "    <tr>\n",
       "      <th>0</th>\n",
       "      <td>versicolor</td>\n",
       "      <td>versicolor</td>\n",
       "    </tr>\n",
       "    <tr>\n",
       "      <th>1</th>\n",
       "      <td>virginica</td>\n",
       "      <td>versicolor</td>\n",
       "    </tr>\n",
       "    <tr>\n",
       "      <th>2</th>\n",
       "      <td>versicolor</td>\n",
       "      <td>versicolor</td>\n",
       "    </tr>\n",
       "    <tr>\n",
       "      <th>3</th>\n",
       "      <td>virginica</td>\n",
       "      <td>versicolor</td>\n",
       "    </tr>\n",
       "    <tr>\n",
       "      <th>4</th>\n",
       "      <td>setosa</td>\n",
       "      <td>setosa</td>\n",
       "    </tr>\n",
       "    <tr>\n",
       "      <th>...</th>\n",
       "      <td>...</td>\n",
       "      <td>...</td>\n",
       "    </tr>\n",
       "    <tr>\n",
       "      <th>135</th>\n",
       "      <td>setosa</td>\n",
       "      <td>setosa</td>\n",
       "    </tr>\n",
       "    <tr>\n",
       "      <th>136</th>\n",
       "      <td>setosa</td>\n",
       "      <td>setosa</td>\n",
       "    </tr>\n",
       "    <tr>\n",
       "      <th>137</th>\n",
       "      <td>virginica</td>\n",
       "      <td>virginica</td>\n",
       "    </tr>\n",
       "    <tr>\n",
       "      <th>138</th>\n",
       "      <td>virginica</td>\n",
       "      <td>versicolor</td>\n",
       "    </tr>\n",
       "    <tr>\n",
       "      <th>139</th>\n",
       "      <td>versicolor</td>\n",
       "      <td>versicolor</td>\n",
       "    </tr>\n",
       "  </tbody>\n",
       "</table>\n",
       "<p>140 rows × 2 columns</p>\n",
       "</div>"
      ],
      "text/plain": [
       "    actual_class predicted_class\n",
       "0     versicolor      versicolor\n",
       "1      virginica      versicolor\n",
       "2     versicolor      versicolor\n",
       "3      virginica      versicolor\n",
       "4         setosa          setosa\n",
       "..           ...             ...\n",
       "135       setosa          setosa\n",
       "136       setosa          setosa\n",
       "137    virginica       virginica\n",
       "138    virginica      versicolor\n",
       "139   versicolor      versicolor\n",
       "\n",
       "[140 rows x 2 columns]"
      ]
     },
     "execution_count": 15,
     "metadata": {},
     "output_type": "execute_result"
    }
   ],
   "source": [
    "test_classes = pd.DataFrame()\n",
    "\n",
    "test_classes['actual_class'] = le.inverse_transform(y_test)\n",
    "test_classes['predicted_class'] = le.inverse_transform(preds)\n",
    "test_classes"
   ]
  },
  {
   "cell_type": "code",
   "execution_count": 16,
   "id": "d40f4541",
   "metadata": {
    "execution": {
     "iopub.execute_input": "2023-12-14T00:48:13.717845Z",
     "iopub.status.busy": "2023-12-14T00:48:13.716845Z",
     "iopub.status.idle": "2023-12-14T00:48:13.729364Z",
     "shell.execute_reply": "2023-12-14T00:48:13.728839Z"
    },
    "papermill": {
     "duration": 0.022055,
     "end_time": "2023-12-14T00:48:13.731381",
     "exception": false,
     "start_time": "2023-12-14T00:48:13.709326",
     "status": "completed"
    },
    "tags": []
   },
   "outputs": [
    {
     "data": {
      "text/html": [
       "<div>\n",
       "<style scoped>\n",
       "    .dataframe tbody tr th:only-of-type {\n",
       "        vertical-align: middle;\n",
       "    }\n",
       "\n",
       "    .dataframe tbody tr th {\n",
       "        vertical-align: top;\n",
       "    }\n",
       "\n",
       "    .dataframe thead th {\n",
       "        text-align: right;\n",
       "    }\n",
       "</style>\n",
       "<table border=\"1\" class=\"dataframe\">\n",
       "  <thead>\n",
       "    <tr style=\"text-align: right;\">\n",
       "      <th></th>\n",
       "      <th>actual_class</th>\n",
       "      <th>predicted_class</th>\n",
       "    </tr>\n",
       "  </thead>\n",
       "  <tbody>\n",
       "    <tr>\n",
       "      <th>0</th>\n",
       "      <td>setosa</td>\n",
       "      <td>setosa</td>\n",
       "    </tr>\n",
       "    <tr>\n",
       "      <th>1</th>\n",
       "      <td>setosa</td>\n",
       "      <td>setosa</td>\n",
       "    </tr>\n",
       "    <tr>\n",
       "      <th>2</th>\n",
       "      <td>versicolor</td>\n",
       "      <td>versicolor</td>\n",
       "    </tr>\n",
       "    <tr>\n",
       "      <th>3</th>\n",
       "      <td>setosa</td>\n",
       "      <td>setosa</td>\n",
       "    </tr>\n",
       "    <tr>\n",
       "      <th>4</th>\n",
       "      <td>versicolor</td>\n",
       "      <td>versicolor</td>\n",
       "    </tr>\n",
       "    <tr>\n",
       "      <th>5</th>\n",
       "      <td>versicolor</td>\n",
       "      <td>versicolor</td>\n",
       "    </tr>\n",
       "    <tr>\n",
       "      <th>6</th>\n",
       "      <td>versicolor</td>\n",
       "      <td>versicolor</td>\n",
       "    </tr>\n",
       "    <tr>\n",
       "      <th>7</th>\n",
       "      <td>versicolor</td>\n",
       "      <td>versicolor</td>\n",
       "    </tr>\n",
       "    <tr>\n",
       "      <th>8</th>\n",
       "      <td>versicolor</td>\n",
       "      <td>versicolor</td>\n",
       "    </tr>\n",
       "    <tr>\n",
       "      <th>9</th>\n",
       "      <td>virginica</td>\n",
       "      <td>virginica</td>\n",
       "    </tr>\n",
       "  </tbody>\n",
       "</table>\n",
       "</div>"
      ],
      "text/plain": [
       "  actual_class predicted_class\n",
       "0       setosa          setosa\n",
       "1       setosa          setosa\n",
       "2   versicolor      versicolor\n",
       "3       setosa          setosa\n",
       "4   versicolor      versicolor\n",
       "5   versicolor      versicolor\n",
       "6   versicolor      versicolor\n",
       "7   versicolor      versicolor\n",
       "8   versicolor      versicolor\n",
       "9    virginica       virginica"
      ]
     },
     "execution_count": 16,
     "metadata": {},
     "output_type": "execute_result"
    }
   ],
   "source": [
    "train_classes = pd.DataFrame()\n",
    "\n",
    "train_classes['actual_class'] = le.inverse_transform(y_train)\n",
    "train_classes['predicted_class'] = le.inverse_transform(lr.predict(X_train_std))\n",
    "train_classes"
   ]
  },
  {
   "cell_type": "code",
   "execution_count": 17,
   "id": "9838429a",
   "metadata": {
    "execution": {
     "iopub.execute_input": "2023-12-14T00:48:13.745530Z",
     "iopub.status.busy": "2023-12-14T00:48:13.745530Z",
     "iopub.status.idle": "2023-12-14T00:48:13.755939Z",
     "shell.execute_reply": "2023-12-14T00:48:13.754922Z"
    },
    "papermill": {
     "duration": 0.020525,
     "end_time": "2023-12-14T00:48:13.757938",
     "exception": false,
     "start_time": "2023-12-14T00:48:13.737413",
     "status": "completed"
    },
    "tags": []
   },
   "outputs": [],
   "source": [
    "test_classes.to_csv('outputs/test_classes_lr.csv', index=False)\n",
    "train_classes.to_csv('outputs/train_classes_lr.csv', index=False)"
   ]
  },
  {
   "cell_type": "code",
   "execution_count": 18,
   "id": "5a6693c9",
   "metadata": {
    "execution": {
     "iopub.execute_input": "2023-12-14T00:48:13.772742Z",
     "iopub.status.busy": "2023-12-14T00:48:13.771714Z",
     "iopub.status.idle": "2023-12-14T00:48:13.777726Z",
     "shell.execute_reply": "2023-12-14T00:48:13.777726Z"
    },
    "papermill": {
     "duration": 0.01519,
     "end_time": "2023-12-14T00:48:13.779748",
     "exception": false,
     "start_time": "2023-12-14T00:48:13.764558",
     "status": "completed"
    },
    "tags": []
   },
   "outputs": [],
   "source": [
    "import pickle\n",
    "\n",
    "with open('./outputs/model_lr.pckl', 'wb') as file:\n",
    "    pickle.dump(lr, file)"
   ]
  },
  {
   "cell_type": "code",
   "execution_count": null,
   "id": "1c5c17fc",
   "metadata": {
    "papermill": {
     "duration": 0.006998,
     "end_time": "2023-12-14T00:48:13.793932",
     "exception": false,
     "start_time": "2023-12-14T00:48:13.786934",
     "status": "completed"
    },
    "tags": []
   },
   "outputs": [],
   "source": []
  }
 ],
 "metadata": {
  "kernelspec": {
   "display_name": "Python 3",
   "language": "python",
   "name": "python3"
  },
  "language_info": {
   "codemirror_mode": {
    "name": "ipython",
    "version": 3
   },
   "file_extension": ".py",
   "mimetype": "text/x-python",
   "name": "python",
   "nbconvert_exporter": "python",
   "pygments_lexer": "ipython3",
   "version": "3.11.5"
  },
  "papermill": {
   "default_parameters": {},
   "duration": 6.364433,
   "end_time": "2023-12-14T00:48:14.267030",
   "environment_variables": {},
   "exception": null,
   "input_path": "logistic_regression.ipynb",
   "output_path": "outputs/logistic_regression_out.ipynb",
   "parameters": {
    "C": 1.0,
    "DATA": "data.csv",
    "MULTI_CLASS": "multinomial",
    "PENALTY": "l2",
    "SEED": 666,
    "TEST_SIZE": 0.93
   },
   "start_time": "2023-12-14T00:48:07.902597",
   "version": "2.5.0"
  }
 },
 "nbformat": 4,
 "nbformat_minor": 5
}